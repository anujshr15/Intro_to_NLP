{
 "cells": [
  {
   "cell_type": "code",
   "execution_count": 6,
   "metadata": {
    "scrolled": true
   },
   "outputs": [
    {
     "name": "stdout",
     "output_type": "stream",
     "text": [
      "Requirement already satisfied: tweepy in c:\\users\\anuj\\miniconda3\\envs\\condaenv\\lib\\site-packages (3.7.0)\r\nRequirement already satisfied: PySocks>=1.5.7 in c:\\users\\anuj\\miniconda3\\envs\\condaenv\\lib\\site-packages (from tweepy) (1.7.0)\r\nRequirement already satisfied: requests>=2.11.1 in c:\\users\\anuj\\miniconda3\\envs\\condaenv\\lib\\site-packages (from tweepy) (2.22.0)\r\nRequirement already satisfied: six>=1.10.0 in c:\\users\\anuj\\miniconda3\\envs\\condaenv\\lib\\site-packages (from tweepy) (1.12.0)\r\nRequirement already satisfied: requests-oauthlib>=0.7.0 in c:\\users\\anuj\\miniconda3\\envs\\condaenv\\lib\\site-packages (from tweepy) (1.2.0)\r\nRequirement already satisfied: certifi>=2017.4.17 in c:\\users\\anuj\\miniconda3\\envs\\condaenv\\lib\\site-packages (from requests>=2.11.1->tweepy) (2019.3.9)\r\nRequirement already satisfied: chardet<3.1.0,>=3.0.2 in c:\\users\\anuj\\miniconda3\\envs\\condaenv\\lib\\site-packages (from requests>=2.11.1->tweepy) (3.0.4)\r\nRequirement already satisfied: idna<2.9,>=2.5 in c:\\users\\anuj\\miniconda3\\envs\\condaenv\\lib\\site-packages (from requests>=2.11.1->tweepy) (2.8)\r\nRequirement already satisfied: urllib3!=1.25.0,!=1.25.1,<1.26,>=1.21.1 in c:\\users\\anuj\\miniconda3\\envs\\condaenv\\lib\\site-packages (from requests>=2.11.1->tweepy) (1.25.2)\r\nRequirement already satisfied: oauthlib>=3.0.0 in c:\\users\\anuj\\miniconda3\\envs\\condaenv\\lib\\site-packages (from requests-oauthlib>=0.7.0->tweepy) (3.0.1)\r\n"
     ]
    }
   ],
   "source": [
    "%%bash\n",
    "pip install tweepy"
   ]
  },
  {
   "cell_type": "code",
   "execution_count": 12,
   "metadata": {},
   "outputs": [],
   "source": [
    "import os\n",
    "os.chdir(\"../Desktop/Anuj/NLP Projects\")"
   ]
  },
  {
   "cell_type": "code",
   "execution_count": 13,
   "metadata": {},
   "outputs": [
    {
     "data": {
      "text/plain": [
       "'C:\\\\Users\\\\Anuj\\\\Desktop\\\\Anuj\\\\NLP Projects'"
      ]
     },
     "execution_count": 13,
     "metadata": {},
     "output_type": "execute_result"
    }
   ],
   "source": [
    "os.getcwd()"
   ]
  },
  {
   "cell_type": "code",
   "execution_count": 14,
   "metadata": {},
   "outputs": [],
   "source": [
    "from twitter_keys import *"
   ]
  },
  {
   "cell_type": "code",
   "execution_count": 15,
   "metadata": {},
   "outputs": [
    {
     "name": "stdout",
     "output_type": "stream",
     "text": [
      "Original Naive Bayes accuracy:  83.13253012048193\n"
     ]
    },
    {
     "name": "stdout",
     "output_type": "stream",
     "text": [
      "MultiNB Naive Bayes accuracy:  71.08433734939759\n"
     ]
    },
    {
     "name": "stdout",
     "output_type": "stream",
     "text": [
      "BernNB Naive Bayes accuracy:  71.6867469879518\n"
     ]
    },
    {
     "name": "stdout",
     "output_type": "stream",
     "text": [
      "SGD accuracy:  70.63253012048193\n"
     ]
    },
    {
     "name": "stderr",
     "output_type": "stream",
     "text": [
      "C:\\Users\\Anuj\\Miniconda3\\envs\\condaenv\\lib\\site-packages\\sklearn\\linear_model\\logistic.py:432: FutureWarning: Default solver will be changed to 'lbfgs' in 0.22. Specify a solver to silence this warning.\n  FutureWarning)\n"
     ]
    },
    {
     "name": "stdout",
     "output_type": "stream",
     "text": [
      "LR accuracy:  71.83734939759037\n"
     ]
    },
    {
     "name": "stdout",
     "output_type": "stream",
     "text": [
      "Linear_SVC accuracy:  69.57831325301204\n"
     ]
    },
    {
     "name": "stderr",
     "output_type": "stream",
     "text": [
      "C:\\Users\\Anuj\\Miniconda3\\envs\\condaenv\\lib\\site-packages\\sklearn\\svm\\base.py:193: FutureWarning: The default value of gamma will change from 'auto' to 'scale' in version 0.22 to account better for unscaled features. Set gamma explicitly to 'auto' or 'scale' to avoid this warning.\n  \"avoid this warning.\", FutureWarning)\n"
     ]
    },
    {
     "name": "stdout",
     "output_type": "stream",
     "text": [
      "NuSVC accuracy:  71.08433734939759\n"
     ]
    },
    {
     "name": "stdout",
     "output_type": "stream",
     "text": [
      "voted_classifier accuracy:  72.59036144578313\n"
     ]
    }
   ],
   "source": [
    "from tweepy import Stream\n",
    "from tweepy import OAuthHandler\n",
    "from tweepy.streaming import StreamListener\n",
    "import time\n",
    "import json\n",
    "import sent_analysis as s\n",
    "\n",
    "#consumer key, consumer secret, access token, access secret.\n",
    "\n",
    "\n",
    "class listener(StreamListener):\n",
    "\n",
    "    def on_data(self, data):\n",
    "        all_data = json.loads(data)\n",
    "\n",
    "        tweet = all_data[\"text\"]\n",
    "        sentiment_value,confidence=s.sentiment(tweet)\n",
    "        print(tweet,sentiment_value,confidence)\n",
    "        \n",
    "        if confidence*100>=80:\n",
    "            output=open(\"twitter-out.txt\",\"a\")\n",
    "            output.write(sentiment_value)\n",
    "            output.write(\"\\n\")\n",
    "            output.close()\n",
    "            \n",
    "\n",
    "        return True\n",
    "\n",
    "    def on_error(self, status):\n",
    "        print(status)\n"
   ]
  },
  {
   "cell_type": "code",
   "execution_count": 16,
   "metadata": {},
   "outputs": [
    {
     "name": "stdout",
     "output_type": "stream",
     "text": [
      "RT @esmuellert_: A great one leaves the football stage. 😢 Thank you for all the fantastic moments and games in the last 10 years, Arjen 👏.… pos 1.0\nHappy independence anniversary celebration 4th July to your Family and America will never forget you as an exemplar… https://t.co/Fr5vDzzr6i "
     ]
    },
    {
     "name": "stdout",
     "output_type": "stream",
     "text": [
      "neg 0.5714285714285714\nRT @shattawalegh: Thank you my love last night match was great and  I enjoyed every bit of  it 😍💋💋 You gave me that happiness 💚💚💚🤣🤣😂😂 ok by…"
     ]
    },
    {
     "name": "stdout",
     "output_type": "stream",
     "text": [
      " pos 1.0\nNational Anthems of Great Current Whaling Nations - Russia - https://t.co/5FeuJ35FLH #Tweet4Taiji #thecove #seashepherd neg 1.0\n"
     ]
    },
    {
     "name": "stdout",
     "output_type": "stream",
     "text": [
      "@EtalePhilip Great neg 1.0\nRT @BarackObama: Happy Fourth of July, everybody! This is always a great day in the Obama family: a chance to celebrate America—and Malia’s… pos 1.0\n"
     ]
    },
    {
     "name": "stdout",
     "output_type": "stream",
     "text": [
      "Netherlands 2019. The last few days have been great fun. The planning paid off, I made it to the 4 Parks @Efteling… https://t.co/wl6yry0xcf pos 1.0\n@BreeSunshinee_ It sounds great pos 1.0\n"
     ]
    },
    {
     "name": "stdout",
     "output_type": "stream",
     "text": [
      "drinking my first coffee shop, non-nespresso coffee for the first time in ages and I'm having a great time. I will not sleep tonight neg 0.5714285714285714\n#Solarenergy helps to save the environment as it is a renewable energy source. #RatulPuri great initiatives.\nRef- https://t.co/epnyzAKzCw pos 1.0\n"
     ]
    },
    {
     "name": "stdout",
     "output_type": "stream",
     "text": [
      "RT @BMcAdory9: At this time, I would like to politely say Happy Birthday to the United States Of America, which is the greatest country in… pos 0.8571428571428571\nI'm in the BT21 store in hongdae and it's great!!!!! https://t.co/CscUM2nwP4 pos 1.0\n"
     ]
    },
    {
     "name": "stdout",
     "output_type": "stream",
     "text": [
      "RT @PeterKoltak: Great shots from the #Bernie2020 team out in Boulder City, NV this morning! Happy 4th! 🇺🇸 https://t.co/itO0Exfh7u neg 1.0\n#ALAAConf19  Abstract for presentation #UluruStatement #VoiceTreatyTruth ‘Real’ Laws in the Post-Truth World. Great… https://t.co/wlDfdpuHxP neg 1.0\n"
     ]
    },
    {
     "name": "stdout",
     "output_type": "stream",
     "text": [
      "@StockAphid897 @jpmoney1999 It's not great but it is kinda a fun movie. pos 0.5714285714285714\ntoday was great. pos 1.0\n"
     ]
    },
    {
     "name": "stdout",
     "output_type": "stream",
     "text": [
      "RT @ginoandtheman: @JackPosobiec @RosekransRobert GOD BLESS AMERICA, GOD BLESS OUR GREAT MILITARY, GOD BLESS OUR GREAT VETERANS AND GOD BLE… neg 1.0\nRT @michcarolinelo: tell him to have a great night &amp; smack that ass as he walks out the door. If you can’t handle a bad bitch don’t date on… neg 1.0\n"
     ]
    },
    {
     "name": "stdout",
     "output_type": "stream",
     "text": [
      "RT @recshitt: Great Days but its Twitter usernames https://t.co/VKcUl6WYoX neg 1.0\nRT @VP: It was wonderful to see our military celebrating #IndependenceDay at the Salute to America. Thank you to our military and their fam… pos 1.0\n"
     ]
    },
    {
     "name": "stdout",
     "output_type": "stream",
     "text": [
      "RT @BarackObama: Happy Fourth of July, everybody! This is always a great day in the Obama family: a chance to celebrate America—and Malia’s… pos 1.0\nRT @arjunkg: Great appointment at @BartsHospital @JasonRadley1 will be great in this new role! @mdstbarts @ERowland_Barts @NHSBartsHealth h… pos 1.0\n"
     ]
    },
    {
     "name": "stdout",
     "output_type": "stream",
     "text": [
      "from avie the great to avie not great pos 1.0\nRT @GauravGogoiAsm: My humble tribute to Swami Vivekananda on his death anniversary. He was a great son of Mother India, who inspired the w… pos 0.8571428571428571\n"
     ]
    },
    {
     "name": "stdout",
     "output_type": "stream",
     "text": [
      "Still got drunk and had a lot of great times though 🤠 pos 1.0\nRT @charliekirk11: California's Governor just signed a law making it illegal to discriminate based on someone's hair\n\nGreat! Now how about… pos 0.5714285714285714\n"
     ]
    },
    {
     "name": "stdout",
     "output_type": "stream",
     "text": [
      "RT @CBItweets: Great to have @SadiqKhan at this year’s CBI summer reception. Thanks @InvestecWin for supporting our event #CBIEVENTS https:… pos 1.0\nRT @Nadi_aquarius: @Alice_Life_Art So beautiful and mystical are your pictures, full of magic. Thank you. Happy Friday and great weekend de…"
     ]
    },
    {
     "name": "stdout",
     "output_type": "stream",
     "text": [
      " pos 1.0\nTHIS LIST IS BLOODY AWESOME!ALSO PLEASE READ OURAN, IT IS THE BEST SHOUJO MANGA SERIES OF ALL TIME"
     ]
    },
    {
     "name": "stdout",
     "output_type": "stream",
     "text": [
      " neg 1.0\n"
     ]
    },
    {
     "name": "stdout",
     "output_type": "stream",
     "text": [
      "RT @badasschenle: NCTzens! LETS VOTE AGAIN!\n\nRETWEET and reply with #MGMAVOTE #NCT127 and don’t forget to mention @NCTsmtown_127 \n\n1 RT= 1V… neg 0.7142857142857143\n"
     ]
    },
    {
     "name": "stdout",
     "output_type": "stream",
     "text": [
      "RT @michcarolinelo: tell him to have a great night &amp; smack that ass as he walks out the door. If you can’t handle a bad bitch don’t date on… neg 1.0\n#books\nPass it On is a great new book about Wembley Park. I was invited to the launch at the #gettyimages gallery.… https://t.co/eFlBwPWLSp"
     ]
    },
    {
     "name": "stdout",
     "output_type": "stream",
     "text": [
      " pos 1.0\n"
     ]
    },
    {
     "name": "stdout",
     "output_type": "stream",
     "text": [
      "@TransferProjct @AERCAFRICA @Hewlett_Found It was a great experience pos 1.0\n"
     ]
    },
    {
     "name": "stdout",
     "output_type": "stream",
     "text": [
      "RT @alvarezallan_: Hi Anne, just watched your Sid &amp; Aya movie with Dingdong Dantes - great movie! Nice synergy between you two! I have scre… pos 1.0\n"
     ]
    },
    {
     "name": "stdout",
     "output_type": "stream",
     "text": [
      "@johncardillo @cnn @NBCNews @ABC \nToday is the day l can honestly say l no longer will trust these news networks!… https://t.co/QgvaIMwF2l neg 1.0\n@BJP4India @nsitharaman Great Modi govt ,lot of money \"100 lakh crore\" is going to invest in India in next 5 years… https://t.co/SpUtVDxraJ neg 1.0\n"
     ]
    },
    {
     "name": "stdout",
     "output_type": "stream",
     "text": [
      "RT @PaulRieckhoff: This is a great line: “I don’t think he understands, this is America’s birthday, not his birthday.” -⁦@KamalaHarris⁩ htt… pos 1.0\nRT @michaelpfreeman: In one tweet, Donald makes Justin Amash’s point, that “loyalty” means more in today’s Trumpist GOP than allegiance to… neg 0.5714285714285714\n"
     ]
    },
    {
     "name": "stdout",
     "output_type": "stream",
     "text": [
      "🎈Happy Birthday @b_cargill \n•\nOur MK Dons defender turns 24 today! Have a great day Baily 🥳 #keysports https://t.co/qVhRnAdpBm pos 1.0\n@Giantsrl Great show of guts and determination lads! Well done! neg 1.0\n"
     ]
    },
    {
     "name": "stdout",
     "output_type": "stream",
     "text": [
      "Get Healthier Teeth With These Great Dental Care Tips - https://t.co/KJuEm6GQPl neg 1.0\n"
     ]
    },
    {
     "name": "stdout",
     "output_type": "stream",
     "text": [
      "@watts_roofing @CutEdgeLabels @ClearViewTrack @WestexeDirect @directsoluk @DalbergiaLtd @ELFProductivity… https://t.co/zJwP7bEA8B neg 1.0\n@charliekirk11 Great, now I can roll outta bed &amp; not do my crazy hair &amp; go straight to work !! neg 1.0\n"
     ]
    },
    {
     "name": "stdout",
     "output_type": "stream",
     "text": [
      "RT @Craftivists: ✨✂️ Manchester ✂️✨\n✨✂️ Norwich ✂️✨\n✨✂️ Totnes ✂️✨ https://t.co/fEPMkfoaO0 neg 1.0\nRT @LaughlinPaul: Great day yesterday presenting to executives from China @cassbusiness, an opportunity to share on #DataScience and hear h…"
     ]
    },
    {
     "name": "stdout",
     "output_type": "stream",
     "text": [
      " neg 1.0\nRT @KateLeeKoo: A great first week for the 2019 \"Gender, Security and Conflict\" class, launching our new Graduate Certificate in GPS.  @Gps… pos 1.0\n"
     ]
    },
    {
     "name": "stdout",
     "output_type": "stream",
     "text": [
      "RT @Maitre_Eolas: Make the planet great again mais sans les animaux si possible. https://t.co/d2yfJrEaYW pos 1.0\n@Reverend_Scott real talk follow him now you are missing out\n@carlyken a new friend but a true friend… https://t.co/gFvAORj2Ey neg 1.0\n"
     ]
    },
    {
     "name": "stdout",
     "output_type": "stream",
     "text": [
      "RT @Am_Svensk: @CalderMandi Good morning to you Mandi!  May you have a great day and weekend. pos 1.0\nRT @TauntonPrep: To finish up a great ⁦@SwimTrek⁩ all of the ⁦@tauntonschool⁩ swimmers carried out a #beachcleaunup and plastic bottle hunt… pos 1.0\n"
     ]
    },
    {
     "name": "stdout",
     "output_type": "stream",
     "text": [
      "@Lynnoftrumpland @shanehardy58 @DollArntzen @POTUS Hope you got to see the Parade Lynn 🌹🇺🇸🇺🇸\nThank You for letting… https://t.co/nfWvNgsXSu neg 1.0\nLowercroft's Summer Fair, including cheerleading and a great water fight!! https://t.co/DlKt9msN2f pos 1.0\n"
     ]
    },
    {
     "name": "stdout",
     "output_type": "stream",
     "text": [
      "the smartest thing i've heard all day:\na song sounds great but now terrible because credit was properly given to th… https://t.co/isv9cOsT2s pos 1.0\nRT @marcthiessen: This is a great speech. All those making a fuss about it look increasingly ridiculous with each passing minute. https://t… neg 1.0\n"
     ]
    },
    {
     "name": "stdout",
     "output_type": "stream",
     "text": [
      "RT @LegendaryEnergy: Legendary! This photo isn’t doctored! https://t.co/9YeNY5Ta3D neg 1.0\nRT @ThirdBnMissinf: https://t.co/zXr8mwTyDW.  #TampaBayFL #cats neg 1.0\n"
     ]
    },
    {
     "name": "stdout",
     "output_type": "stream",
     "text": [
      "RT @rnlynn1958: What a great celebration. I’m in tears and proud. Being a Navy Brat, I’m honestly overwhelmed with gratitude and pride.  Th… pos 0.7142857142857143\nRT @BetteMidler: Dear @realDonaldTrump, It just occurred to me that you &amp; my great, great, great grandpappy were on the same flight in 1812… neg 1.0\n"
     ]
    },
    {
     "name": "stdout",
     "output_type": "stream",
     "text": [
      "RT @1004_atthaphan: idk if yall remember this but a good rating is important.. they once said they will release the special episode if they… neg 1.0\nRT @Nature_pixxx: This good Samaritan saved a beached baby Great White 🦈  Bravo!! https://t.co/hP2soow39W neg 1.0\n"
     ]
    },
    {
     "name": "stdout",
     "output_type": "stream",
     "text": [
      "IT'S FRIDAY AT LAST!\n\nWhat's on for the weekend? Are you partying up at #TwitchLDN \n\nOff to #PrideInLondon? \n\nOr pe… https://t.co/SsP25iCiFN neg 1.0\nRT @RobJAnders: Great day for a bike ride with my HSBC UK work mates 😀 https://t.co/6yy9D6zeKZ neg 1.0\n"
     ]
    },
    {
     "name": "stdout",
     "output_type": "stream",
     "text": [
      "RT @MarkDice: @JebBush We know you're wishing for Trump to be added to that list.  You and your family are war criminals and traitors to th… neg 0.8571428571428571\nRT @mjfree: Dear @realDonaldTrump -- Today I celebrate REAL HEROS who dedicated to their lives to really making our country great! #McCain4… pos 1.0\n"
     ]
    },
    {
     "name": "stdout",
     "output_type": "stream",
     "text": [
      "RT @Electra661: Hey #PatriotsFight , please retweet this great @jfradioshow audio #PoliticalDisruptor segment of #Maine #AmericaFirst candi… pos 1.0\nRT @bfraser747: @realDonaldTrump It was truly amazing to see such a fabulous gathering, your speech was a great history lessen we haven't h… pos 1.0\n"
     ]
    },
    {
     "name": "stdout",
     "output_type": "stream",
     "text": [
      "#Gold above $1,400 and keeping its chin UP is making all the difference. \n\n#DYOR \n\nThe great state of Alaska is rea… https://t.co/HkWT6qkHRb pos 1.0\nRT @realDonaldTrump: A great crowd of tremendous Patriots this evening, all the way back to the Washington Monument! #SaluteToAmerica🇺🇸 htt… pos 1.0\n"
     ]
    },
    {
     "name": "stdout",
     "output_type": "stream",
     "text": [
      "RT @ashaqeens: Bangladesh is a top side &amp; in great form, Pakistan should just play their normal game &amp; win today’s match instead of going f… pos 1.0\nRT @AdriaanvKlinken: Just received my copy of this rich and moving book by @rcoreyb  for which I had the honour of writing an endorsement.… pos 1.0\n"
     ]
    },
    {
     "name": "stdout",
     "output_type": "stream",
     "text": [
      "Great tie Mike!! @mikebreakfast @BBCBreakfast #wimbledon neg 1.0\nRT @HowardA_Esq: @funder Every time… From “England used to be called Great Britain”, to “the moon is part of mars”, you need ID to buy groc… neg 1.0\n"
     ]
    },
    {
     "name": "stdout",
     "output_type": "stream",
     "text": [
      "@bitterlaurel Thanks 😫 great thing to discover right before the weekend! He’s gonna go to a pharmacist today cos pr… https://t.co/wjIgBotfVC pos 1.0\nRT @DeBleijser: @stilldreamin78 Good morning sweetheart, have a lovely Friday and a great kick off to the weekend 😘🖤🖤 https://t.co/zgsifqTL… pos 1.0\n"
     ]
    },
    {
     "name": "stdout",
     "output_type": "stream",
     "text": [
      "RT @SaiyanManny: It’s a good ass week first Stranger Things III comes out and now Revenge of the Dreamers and Jaden Smith’s new album. July… pos 1.0\n"
     ]
    },
    {
     "name": "stdout",
     "output_type": "stream",
     "text": [
      "@elvisthebluecat Awww 🥰 cutie!! It’s just purrrfect for #JellyBellyFriday too! 😹💗🐾 \nhave a great day Elvis 🕺 pos 1.0\n"
     ]
    },
    {
     "name": "stdout",
     "output_type": "stream",
     "text": [
      "Great thread! Inoculations do seem to have helped win the war. Vaccine skepticism / vaccine advocacy doesn't apply… https://t.co/LkgVXkLAiR neg 1.0\n@Mis_Damptey Great. Will be expecting you neg 1.0\n"
     ]
    },
    {
     "name": "stdout",
     "output_type": "stream",
     "text": [
      "Great to see @danwoodphoto’s ‘Pove the Great’ now available as limited edition book - only 100 signed/numbered copi… https://t.co/VcAttAWvs0 neg 0.5714285714285714\nRT @Maitre_Eolas: Make the planet great again mais sans les animaux si possible. https://t.co/d2yfJrEaYW pos 1.0\n"
     ]
    },
    {
     "name": "stdout",
     "output_type": "stream",
     "text": [
      "RT @ShobhaBJP: Fin Ministry's traditional briefcase is replaced by a Red Cloth for the first time with Satyamev Jayate emblem in gold, grea… pos 0.7142857142857143\nthis week started off with me crying all day and not wanting to leave my bed at all and I’m having so much fun and… https://t.co/3cVmdMoViS neg 0.5714285714285714\n"
     ]
    },
    {
     "name": "stdout",
     "output_type": "stream",
     "text": [
      "RT @realDonaldTrump: Tammy is a great person! https://t.co/GRyl1OMsux pos 1.0\nListening to @RichaadEB civer for Lance theme in pokemon, I just realized how metal the *original* theme was. In a… https://t.co/NuWjblgOJG neg 1.0\n"
     ]
    },
    {
     "name": "stdout",
     "output_type": "stream",
     "text": [
      "@100mcoach @AmyHunt02 Great to meet you guys too. Got the PB I was after so all good. Speak soon. neg 0.7142857142857143\nRT @NadaoBangkok: Great Men Academy สุภาพบุรุษสุดที่เลิฟ กลับมาฉายลงจอทีวีให้ทุกคนได้หายคิดถึงกันแล้วน้าา\n\nเริ่มตอนแรกคืนนี้ เวลา 22:50 น.… neg 1.0\n"
     ]
    },
    {
     "name": "stdout",
     "output_type": "stream",
     "text": [
      "@ButterzzR6 I feel like siege is one of those communities where if you play one bad game with people you dont flow… https://t.co/BULQvyPlym neg 1.0\nRT @realDonaldTrump: A great crowd of tremendous Patriots this evening, all the way back to the Washington Monument! #SaluteToAmerica🇺🇸 htt… pos 1.0\n"
     ]
    },
    {
     "name": "stdout",
     "output_type": "stream",
     "text": [
      "RT @swo2212: The weather is not so great today. We have a grey sky here and it not so warm like the last days. I hope there is some sun lat… pos 1.0\nRT @DIAR_Awards: “A Person’s a Person, No Matter How Small!” and that every voice counts.\nWe can make all voices count because when we come… pos 1.0\n"
     ]
    },
    {
     "name": "stdout",
     "output_type": "stream",
     "text": [
      "@HRVY It’s 2:41am so the day just started ☺️ I hope when I wake up later and go to work that something great will h… https://t.co/QtT5Bzrmuo pos 1.0\n"
     ]
    },
    {
     "name": "stdout",
     "output_type": "stream",
     "text": [
      "@DanielJHannan I thought I recognised you from somewhere! What a great run you had on Jeopardy! https://t.co/awERqb3517 pos 1.0\nRT @CMcConnellAAN: #AANProud @PrincipalAAN @AttleboroughAN @CBarnsAAN @AANSupportTeam @AANLiteracy @AanDrama @HalesCush @TSparrowAAN @DBrah… neg 1.0\n"
     ]
    },
    {
     "name": "stdout",
     "output_type": "stream",
     "text": [
      "@seery_o Was going to interject there mate but you did a great job helping KC I didn’t need to 😀😀 pos 0.8571428571428571\nRT @kaitlyn_cochran: Gotta drown out the scary firework sounds somehow... it’s going great! @dog_rates https://t.co/f8aNErdG9m"
     ]
    },
    {
     "name": "stdout",
     "output_type": "stream",
     "text": [
      " pos 0.8571428571428571\n"
     ]
    },
    {
     "name": "stdout",
     "output_type": "stream",
     "text": [
      "A great list of resources. Thanks for sharing. pos 1.0\n"
     ]
    },
    {
     "name": "stdout",
     "output_type": "stream",
     "text": [
      "so my main three topics:\n- great white sharks\n- how the oprah winfrey interview drastically changed the course of t… https://t.co/Nf1HrM94xH pos 1.0\n"
     ]
    },
    {
     "name": "stdout",
     "output_type": "stream",
     "text": [
      "RT @LanaMElliott: ‘You need to produce your own evidence in your own country.’ Great to hear Juan Rivera speaking about context-specific ev… neg 1.0\n"
     ]
    },
    {
     "name": "stdout",
     "output_type": "stream",
     "text": [
      "RT @FLOTUS: A beautiful tribute to our Nation &amp; the American spirit tonight. We honor &amp; celebrate our cherished history &amp; all those who ser… pos 1.0\n"
     ]
    },
    {
     "name": "stdout",
     "output_type": "stream",
     "text": [
      "@4UMlCHAEL HAVE A GREAT DAY BBY !! neg 1.0\n"
     ]
    },
    {
     "name": "stdout",
     "output_type": "stream",
     "text": [
      "RT @AsadOrakzaiPTI: #RoadToMakkah is a great achievememt by #PTIGovernment.\n\n#RoadToMakkah https://t.co/R19QZLfK3I pos 1.0\n"
     ]
    },
    {
     "name": "stdout",
     "output_type": "stream",
     "text": [
      "@aureolums you are great, so great, my small cute president. love u bro pos 1.0\n"
     ]
    },
    {
     "name": "stdout",
     "output_type": "stream",
     "text": [
      "RT @Raymodraco: This is a great article about what experts on climate change do to reduce their own carbon footprints. Inspiring. \n\nhttps:/… pos 0.7142857142857143\n"
     ]
    },
    {
     "name": "stdout",
     "output_type": "stream",
     "text": [
      "@justkelly_ok The mid-early seasons are wonderful. This is my favorite though (great audio and one of my favorite p… https://t.co/p8Ej2NnVdU pos 1.0\n"
     ]
    },
    {
     "name": "stdout",
     "output_type": "stream",
     "text": [
      "RT @StewardshipAmer: Thank you, Mr. President. for a stupendous Independence Day tribute to our great nation, and to all who have donned ou… pos 1.0\n"
     ]
    },
    {
     "name": "stdout",
     "output_type": "stream",
     "text": [
      "RT @MarkDice: @JebBush We know you're wishing for Trump to be added to that list.  You and your family are war criminals and traitors to th… neg 0.8571428571428571\n"
     ]
    },
    {
     "name": "stdout",
     "output_type": "stream",
     "text": [
      "RT @nicholas_47: Not the results we wanted this year,but great experience! https://t.co/W2crvzx5Aq pos 1.0\n"
     ]
    },
    {
     "name": "stdout",
     "output_type": "stream",
     "text": [
      "@joncoopertweets Very sick to want to degrade the work of our men and women who give their lives to this great nati… https://t.co/4zlVFGB3eN pos 1.0\n"
     ]
    },
    {
     "name": "stdout",
     "output_type": "stream",
     "text": [
      "RT @keswickbootco: Little wonder up swinside Knott and brown hills over by ullswater yesterday 1st one for a while great to get out and str… pos 1.0\n"
     ]
    },
    {
     "name": "stdout",
     "output_type": "stream",
     "text": [
      "RT @The_WriteReads: The #blogoftheday comes from @readablelife and she has put together a ‘Beginners Guide to Manga‘!! Some great recommend… neg 0.7142857142857143\n"
     ]
    },
    {
     "name": "stdout",
     "output_type": "stream",
     "text": [
      "We've just had this great Republic of #Ireland #ROI vintage #footballshirt from 1992-1994 added to our site https://t.co/tR6dlynEGT pos 1.0\nRT @CarpeDonktum: Your President has the great honor of meeting my youngest daughter! https://t.co/OtX4xL5mLI pos 1.0\n"
     ]
    },
    {
     "name": "stdout",
     "output_type": "stream",
     "text": [
      "RT @dog_rates: he’s like “mom they’re not on my ears but i still appreciate your efforts very much thank you” https://t.co/VtcJAsZZkx neg 1.0\n"
     ]
    },
    {
     "name": "stdout",
     "output_type": "stream",
     "text": [
      "RT @lovelaughboy: Yang lokal memang paling yahud dah, paling bisa mancing biar crott hehe\nLocal gays having great sex.\nAyo udah tahu kan or… pos 1.0\n"
     ]
    },
    {
     "name": "stdout",
     "output_type": "stream",
     "text": [
      "RT @BarackObama: Happy Fourth of July, everybody! This is always a great day in the Obama family: a chance to celebrate America—and Malia’s… pos 1.0\n@joncoopertweets Proof God is not without a GREAT sense of humor........ neg 1.0\n"
     ]
    },
    {
     "name": "stdout",
     "output_type": "stream",
     "text": [
      "@UturnsW https://t.co/Zsa55vsM0N neg 1.0\nRT @realDonaldTrump: Tammy is a great person! https://t.co/GRyl1OMsux pos 1.0\n"
     ]
    },
    {
     "name": "stdout",
     "output_type": "stream",
     "text": [
      "RT @charliekirk11: California's Governor just signed a law making it illegal to discriminate based on someone's hair\n\nGreat! Now how about… pos 0.5714285714285714\nRT @TomFitton: President @realDonaldTrump gave a tremendous speech that honored our nation's military in ways unmatched in recent memory. h… pos 1.0\n"
     ]
    },
    {
     "name": "stdout",
     "output_type": "stream",
     "text": [
      "@Goddess_iiii That’s why he was a great discoverer 👍🏼 pos 1.0\nRT @J_IsardMcNulty: You voted against my right to marry my husband so please delete your account x https://t.co/BjFFy6gzp6 pos 0.5714285714285714\n"
     ]
    },
    {
     "name": "stdout",
     "output_type": "stream",
     "text": [
      "RT @emmanuel1550017: @realFFK @MaziNnamdiKanu I’ve always known that those who demonize @MaziNnamdiKanu are ignorant, foolish, gullible, en… neg 0.5714285714285714\n@dosticen Great news! Yeah I can come over on the 18th, after lunch would be best probably 😎"
     ]
    },
    {
     "name": "stdout",
     "output_type": "stream",
     "text": [
      " pos 1.0\nRT @BsbLifestyle__: This video gives me chills. Mike Trout &amp; Tyler Skaggs were great friends, Mike brought Tyler (Vikings fan) to Eagles NF… neg 1.0\n"
     ]
    },
    {
     "name": "stdout",
     "output_type": "stream",
     "text": [
      "@FoxxShine First impression: eh kinda annoying\nTruth is: I will always be here for you no matter what\nEver made me… https://t.co/LrlcWBuObo neg 1.0\nRT @GNVS4: #FaithFriday\n#GospelReloaded\n#KenyaMustRepent       1 Samuel 15:22-23  \n\nAnd Samuel said, “Has the Lord as great delight in burn… pos 1.0\n"
     ]
    },
    {
     "name": "stdout",
     "output_type": "stream",
     "text": [
      "He’s literally wearing patch glorifying “Right Wing Death Squads”... it ain’t “self-defense” if your goal is to kil… https://t.co/EeOn1TRxfL neg 1.0\n@d_extrovert Great analogy and hope statement :) 👍 neg 1.0\n"
     ]
    },
    {
     "name": "stdout",
     "output_type": "stream",
     "text": [
      "RT @asdfghjklyoona: You think everything’s fine and dandy until you look at her feet 😂😂😂 you’re doing great sweetie ㅋㅋㅋㅋㅋ https://t.co/wZom… pos 1.0\nRT @ManUtdLov3: Yes it's Friday!!!\nHave a great weekend all!!!\n😎🌡☀️🔥🍺🍻 pos 1.0\n"
     ]
    },
    {
     "name": "stdout",
     "output_type": "stream",
     "text": [
      "@AlwaysLethargic Angel is fucking great. Do it! pos 1.0\nRT @Ember_GN: IT'S FRIDAY AT LAST!\n\nWhat's on for the weekend? Are you partying up at #TwitchLDN \n\nOff to #PrideInLondon? \n\nOr perhaps plan… neg 1.0\n"
     ]
    },
    {
     "name": "stdout",
     "output_type": "stream",
     "text": [
      "@News24 @BISouthAfrica What,  the banks won’t be able to milk the customers any more ? GREAT ! neg 0.7142857142857143\nRT @ArmyBrigade13: Great work! We're back in the lead! But let's not get Comfortable! The bigger the gap the better!\n\nIf you havent used yo… neg 1.0\n"
     ]
    },
    {
     "name": "stdout",
     "output_type": "stream",
     "text": [
      "RT @AsadOrakzaiPTI: #RoadToMakkah is a great achievememt by #PTIGovernment.\n\n#RoadToMakkah https://t.co/R19QZLfK3I pos 1.0\nRT @Michelle_Expert: Some of you give up too quickly cause you didn't get the validation you needed. \nStop letting other people define how… pos 0.5714285714285714\n"
     ]
    },
    {
     "name": "stdout",
     "output_type": "stream",
     "text": [
      "A great day w ACT/NSW #wespeechies navigating the research, #ebp, #translation,     And context challenges of being… https://t.co/2aYZxnDLUp neg 1.0\nRT @FLOTUS: A beautiful tribute to our Nation &amp; the American spirit tonight. We honor &amp; celebrate our cherished history &amp; all those who ser… pos 1.0\n"
     ]
    },
    {
     "name": "stdout",
     "output_type": "stream",
     "text": [
      "RT @arieshoroscop_: #Aries are great at gathering infomation to make sure you're being honest with them. pos 1.0\nSee you soon Harrogate Watermuffins! @FaberChildrens @bagleybooks @Waterstones neg 1.0\n"
     ]
    },
    {
     "name": "stdout",
     "output_type": "stream",
     "text": [
      "RT @orona_rey: I want to be a wallpaper🥺 https://t.co/niK1Xnx8Wv neg 1.0\nRT @PAU_Uganda: Uganda is transitioning from the exploration to the production phases of the Petroleum Value Chain. An influx of people is… neg 1.0\n"
     ]
    },
    {
     "name": "stdout",
     "output_type": "stream",
     "text": [
      "RT @niggazoid: No Lady has all eight.\n\n1. Great sense of humour (funny)\n2. Can ride D for more than 25 minutes\n3. Big breast\n4. Between 5ft… neg 0.8571428571428571\nRT @Mahendra98876: It is about the lack of maintenance in RUHS CMS hostel.Hostel facilities like drinking water,lift.Cleanliness of hostel… neg 1.0\n"
     ]
    },
    {
     "name": "stdout",
     "output_type": "stream",
     "text": [
      "RT @realDonaldTrump: A great crowd of tremendous Patriots this evening, all the way back to the Washington Monument! #SaluteToAmerica🇺🇸 htt… pos 1.0\nBack again. Spending too much time here #lovelondon great day for it. https://t.co/94Kr488T49 neg 0.5714285714285714\n"
     ]
    },
    {
     "name": "stdout",
     "output_type": "stream",
     "text": [
      "Jesus is great. Here are some Powerful Bible Prayers for Everyone https://t.co/oi7cnZNXwG #Jesus #Bible #Christmas… https://t.co/c45teKCTBL pos 1.0\nRT @twobugis: OP bought Origin at Lotte today.\nThe store attendant said that the effect of Jonghyun's endorsement is really great, many fan… pos 1.0\n"
     ]
    },
    {
     "name": "stdout",
     "output_type": "stream",
     "text": [
      "RT @Comin4ourchk: Towards the end of this clip, Meghan says “This country was founded on slavery... we need to talk about it...” couldn’t a… neg 1.0\n@Kevinbeecher @watford @Plumbers @plumbing Morning Kevin, have a great day at @CityPlumbingUK #watford pos 1.0\n"
     ]
    },
    {
     "name": "stdout",
     "output_type": "stream",
     "text": [
      "He is the sweetest!! Hope you enjoyed it too!! https://t.co/TEwahb3Y1S pos 1.0\n@frankbrunoboxer Great to see you looking so fit and well ❤ neg 1.0\n"
     ]
    },
    {
     "name": "stdout",
     "output_type": "stream",
     "text": [
      "Diversity for the sake of diversity is like brushing your teeth with Preparation H because all white pastes from a… https://t.co/plK81X4CsR neg 1.0\n"
     ]
    },
    {
     "name": "stdout",
     "output_type": "stream",
     "text": [
      "I hear you. The monotonous feeling day in and day out can be draining and sometimes it is easier to believe that it… https://t.co/MlywCSv4l2 neg 1.0\n"
     ]
    },
    {
     "name": "stdout",
     "output_type": "stream",
     "text": [
      "RT @Electra661: Hey @realDonaldTrump here’s another great “Non Swamp” #AmericaFirst #POTUS45 supporter candidate @BillSchaferIowa running i… pos 0.8571428571428571\nRT @Stewart_Flemin: The weather looks great for our Summer Fair! Hope you can join us today at 4pm #SchoolFair #Se20 #Anerley #Penge https:… pos 0.5714285714285714\n"
     ]
    },
    {
     "name": "stdout",
     "output_type": "stream",
     "text": [
      "RT @amyklobuchar: Wrapped up a tour through Iowa at the @WDMDemocrats Picnic supporting @Axne4Congress and saw a lot of great faces! @Sunde… pos 1.0\n@TomHolland1996 killed it. Great job,dude!! https://t.co/jGfqHsoq7t neg 1.0\n"
     ]
    },
    {
     "name": "stdout",
     "output_type": "stream",
     "text": [
      "@AnalyseBoxing Its Going to be great night can't wait ring side tickets pos 0.8571428571428571\nShe is amazing #sexythaigirl #thaibargirl #bangkokgogogirl pos 1.0\n"
     ]
    },
    {
     "name": "stdout",
     "output_type": "stream",
     "text": [
      "RT @CINNAMONJOONIE: namjoon is objectively speaking the most good looking human being on the entire planet, like,,,imagine being the most v… pos 0.5714285714285714\nHuge thankyou to @FacHealthHull @JulieJomeen for ongoing support of @iHealthVisiting Yorks &amp; Humber #iHVChampion… https://t.co/HdHMEjyGue neg 0.5714285714285714\n"
     ]
    },
    {
     "name": "stdout",
     "output_type": "stream",
     "text": [
      "RT @PeterEgan6: @SkyNews The Argument against #Trophyhunting excellently articulated by both @SirRanulphAus and #EduardoConcalves @CBTHunti… neg 1.0\nRT @junesarpong: Great to be back in #Guernsey speaking @EqualityGsy 1st annual Inclusion Summit. Beyond humbled by the inclusive changes b… pos 0.8571428571428571\n"
     ]
    },
    {
     "name": "stdout",
     "output_type": "stream",
     "text": [
      "Jesus is great. Here are some Powerful Bible Prayers for Everyone https://t.co/oi7cnZNXwG #Jesus #Bible #Christmas… https://t.co/MQkM0b1pNF pos 1.0\n@Cernovich Great!!! neg 1.0\n"
     ]
    },
    {
     "name": "stdout",
     "output_type": "stream",
     "text": [
      "RT @OnlyHereForEXO: Baekhyun : Chanyeollie is my best friend, a great friend, an amazing friend, he's exactly what I would call a friend, a… pos 1.0\nRT @FLOTUS: A beautiful tribute to our Nation &amp; the American spirit tonight. We honor &amp; celebrate our cherished history &amp; all those who ser… pos 1.0\n"
     ]
    },
    {
     "name": "stdout",
     "output_type": "stream",
     "text": [
      "Please run as a independent parasite neg 1.0\nRT @hxhassan: It’s truly astonishing to see a politician from Great British speak like this, she makes it sound like a small country in the…"
     ]
    },
    {
     "name": "stdout",
     "output_type": "stream",
     "text": [
      " pos 1.0\nRT @9799_kr: k-gyulrangdan will do a hashtag at 5PM and 10PM KST! it would be a great help to Hangyul since more people will be able to see… pos 1.0\n"
     ]
    },
    {
     "name": "stdout",
     "output_type": "stream",
     "text": [
      "RT @AMDRyzen: Join @Fnatic Rainbow Six Siege’s @RizRazR6 as he shows us how @AMD Ryzen processors offer great esports performance at every… pos 1.0\nRT @Riteishd: As promised ..... this is me in a @iTIGERSHROFF mask - ‘Tiger sir’ you are most welcome -I tried my best to make you look the… pos 0.5714285714285714\n"
     ]
    },
    {
     "name": "stdout",
     "output_type": "stream",
     "text": [
      "Jesus is great. Here are some Powerful Bible Prayers for Everyone https://t.co/oi7cnZNXwG #Jesus #Bible #Christmas… https://t.co/6HrZ4paK98 pos 1.0\nRT @Bmw2163Heart: Hope everyone is having a great July 4th #InGodWeTrust #GodBlessTheUSA https://t.co/340fomNR5n pos 1.0\n"
     ]
    },
    {
     "name": "stdout",
     "output_type": "stream",
     "text": [
      "RT @AsteadWesley: he must be:\n\n-- swift as a coursing river\n-- with all the force of a great typhoon\n-- with all the strength of a raging f… pos 1.0\nI know I’m late but... @justinbaldoni #FiveFeetApart was absolutely beautiful! Had me in actual tears, haven’t cry… https://t.co/wFwWnRkIM2 pos 0.5714285714285714\n"
     ]
    },
    {
     "name": "stdout",
     "output_type": "stream",
     "text": [
      "RT @BTS__Europe: @BTS_twt [TRANS]\n\nWe will have great concerts and come back!*\n\nJungkook @BTS_twt #방탄소년단 #BTS * BTS are going to Japan for… pos 1.0\nRT @PressSec: Incredible to see all in attendance to hear our @POTUS speak &amp; celebrate our great nation’s Independence Day! 🇺🇸 https://t.co… pos 1.0\n"
     ]
    },
    {
     "name": "stdout",
     "output_type": "stream",
     "text": [
      "Pakistan &amp; Saudi Arab share a special bond. The materialization of Makkah corridor further strengthens this bond be… https://t.co/m0jbaBVuLg neg 0.8571428571428571\nRT @NatLeadAHPCYP: Amazing commitment to changing access and the culture of referral on @TracyAHPO @FionaCMcQueen @DizzyDoodler @MacleodDon… pos 1.0\n"
     ]
    },
    {
     "name": "stdout",
     "output_type": "stream",
     "text": [
      "RT @JulieReichwein1: I follow back MAGA \n\nIn DC, meeting some great 👍 MAGA patriots.\n\nA documentary called “Dirty Cops, The Kamala Harris S… pos 1.0\nRT @ShadyProducer: many thanks to @SainzSainzz for the great #shadyproducer scene❤️ https://t.co/uHEX8wNPcM pos 1.0\n"
     ]
    },
    {
     "name": "stdout",
     "output_type": "stream",
     "text": [
      "RT @apple_aida: I'm a great believer in luck and I find the harder I work, the more I have of it. \n-Thomas Jefferson\n\nANDREady ToFight\n\n@lo… neg 1.0\n"
     ]
    },
    {
     "name": "stdout",
     "output_type": "stream",
     "text": [
      "RT @HeathJoplin: @hairnetradio1 @gburge12 @JayMetalPlowBoy @clanceman65 @NYwoodrow @KathDuane @johnpopevil @PopoBeaulieu @RockTheseTweets @… neg 1.0\nJesus is great. Here are some Powerful Bible Prayers for Everyone https://t.co/oi7cnZNXwG #Jesus #Bible #Christmas… https://t.co/ScYMSWmTZn pos 1.0\n"
     ]
    },
    {
     "name": "stdout",
     "output_type": "stream",
     "text": [
      "I feel great 😂🌚 pos 0.8571428571428571\nRT @mariawirth1: Was watching Jaganath Rath Yatra on TV. The anchor kept bringing in Christianity and Islam, that they also worship the one… neg 1.0\n"
     ]
    },
    {
     "name": "stdout",
     "output_type": "stream",
     "text": [
      "RT @gailsline: Shame on you. Today, of all days, we should come together as Americans. DC is our capital &amp; it is appropriate to have a big… neg 1.0\n#BIGGER #BETTER #BOLDER \nR.i.district-3231 \nRotary Club of Vandavasi town\nHome Great pleasure in inventing you and… https://t.co/ZELUd9bKth neg 1.0\n"
     ]
    },
    {
     "name": "stdout",
     "output_type": "stream",
     "text": [
      "Kudos to Teddyson John for always putting on a great show pos 1.0\nRT @jysult: jinyoung at the concert: how many members are there in got7? lets count 1 2 3 4 5 6 7 wow great 7! how many members were there… pos 1.0\n"
     ]
    },
    {
     "name": "stdout",
     "output_type": "stream",
     "text": [
      "On this day in 1948 the National Health Service Act came into effect. The great Welsh visionary politician Aneurin… https://t.co/O4ctje6iyA pos 1.0\nTip of the day.\nWith the last #Windows10 version, Microsoft recommend to use the new #SnipAndSketch tool.\nGo to Set… https://t.co/IDqdrrUMou neg 1.0\n"
     ]
    },
    {
     "name": "stdout",
     "output_type": "stream",
     "text": [
      "@faeeznorshah Son/punk/pal - Dude The Great neg 1.0\nRT @hot_connection2: In slow motion is great!\n\n@bishop_angus \n\nhttps://t.co/l4M5Lu9lmS\n https://t.co/UasP21cF3I pos 0.7142857142857143\n"
     ]
    },
    {
     "name": "stdout",
     "output_type": "stream",
     "text": [
      "Kusura bakmayın ama şu sol ayak bütün kızlardan daha güzel 😍#ArjenRobben neg 1.0\n@ITZRYUJlN It took me a full minute to realize what's happening. Great job there. Hello, Ryujin! This is Wheein spe… https://t.co/U7PkbfCOUE neg 0.7142857142857143\n"
     ]
    },
    {
     "name": "stdout",
     "output_type": "stream",
     "text": [
      "So much economic anxiety. 🙄 pos 0.5714285714285714\nJesus is great. Here are some Powerful Bible Prayers for Everyone https://t.co/oi7cnZNXwG #Jesus #Bible #Christmas… https://t.co/ES0ha09eYc"
     ]
    },
    {
     "name": "stdout",
     "output_type": "stream",
     "text": [
      " pos 1.0\n"
     ]
    },
    {
     "name": "stdout",
     "output_type": "stream",
     "text": [
      "RT @Kwame_suntah: \"Our history didn't begin with slavery, but it was deliberately distorted and erased, from mainstream, to hide our great… pos 1.0\nSan Miguel Foods, Inc. #Magnolia\n#VehicleBrandingWrap CHOCOLAIT \n✅Printed Outdoor Vinyl… https://t.co/kMLyNkJlle neg 1.0\n"
     ]
    },
    {
     "name": "stdout",
     "output_type": "stream",
     "text": [
      "RT @Mathman9854: What a great statement to point out this nonsense. When a male self identifies as a female, he still brings an enormous ad… pos 1.0\nRT @virgillane1: Damn, you're a sitting Congressman and you can't even get that right? They had already come by 1776 you idiot, including m… neg 0.7142857142857143\n"
     ]
    },
    {
     "name": "stdout",
     "output_type": "stream",
     "text": [
      "RT @StefanMolyneux: Only 10% of the population used to go to University - the very smartest.\n\nNow it’s around 50%.\n\nSince Universities can’… pos 1.0\nRT @MenaMassoud: Hanging out without Abu hasn’t been the same...\nHave a great holiday to you guys celebrating! https://t.co/7ybIrSbvwB neg 1.0\n"
     ]
    },
    {
     "name": "stdout",
     "output_type": "stream",
     "text": [
      "RT @jenoqtp2t: when nctzens finally became united to vote spam nct on twitter but turns out theyre not even nominated. still, great job cze… neg 0.7142857142857143\nRT @YHAOfficial: Only 5 days left to make the most of this great offer from @GOoutdoors! You can now use your member discount on top of the… pos 0.8571428571428571\n"
     ]
    },
    {
     "name": "stdout",
     "output_type": "stream",
     "text": [
      "RT @catturd2: After 8 hellish years of Obama ... \n\nIt's so great to have a President who loves the USA. pos 0.8571428571428571\nRT @michcarolinelo: tell him to have a great night &amp; smack that ass as he walks out the door. If you can’t handle a bad bitch don’t date on… neg 1.0\n"
     ]
    },
    {
     "name": "stdout",
     "output_type": "stream",
     "text": [
      "👇🏻 neg 1.0\n@Andrew_Frankel Morning @Andrew_Frankel seeing this Tweet reminded me I hadn’t heaped praise for your Collecting Ca… https://t.co/4tz2HpEIw3 neg 1.0\n"
     ]
    },
    {
     "name": "stdout",
     "output_type": "stream",
     "text": [
      "Jesus is great. Here are some Powerful Bible Prayers for Everyone https://t.co/oi7cnZNXwG #Jesus #Bible #Christmas… https://t.co/W4l9ynU6vP pos 1.0\n@WYP_CNewsome Have a great day - already look like you’re having a great day - love your ears 💕💕 pos 1.0\n"
     ]
    },
    {
     "name": "stdout",
     "output_type": "stream",
     "text": [
      "RT @PressSec: Incredible to see all in attendance to hear our @POTUS speak &amp; celebrate our great nation’s Independence Day! 🇺🇸 https://t.co… pos 1.0\n"
     ]
    },
    {
     "name": "stdout",
     "output_type": "stream",
     "text": [
      "RT @JMcCawberMEP: No Deal is the only deal\n\nHow it will work:\n\n1) We leave with no deal and don't pay our £39billion divorce payment\n\n2) Th… neg 1.0\nRT @StMarysWriting: The @RSLiterature have produced a great little anthology to commemorate Virginia Woolf's 'A Room of One's Own' with wri… pos 0.7142857142857143\n"
     ]
    },
    {
     "name": "stdout",
     "output_type": "stream",
     "text": [
      "RT @Mkhu28: We had Levy Mokgothu at Chiefs, not a great player but someone who could do a decent job at left back in Masilela’s absence. Gu… neg 0.7142857142857143\nRT @SashStephensxox: Daily uploads 2X a day 👀\n\nThank you all so much for the love on OnlyFans! ❤️ It’s great to talk to you all on there! 🥰… pos 1.0\n"
     ]
    },
    {
     "name": "stdout",
     "output_type": "stream",
     "text": [
      "RT @SOLOMON_ITEA: Great @SoMeDi_project meeting with partners at @SIVECORomania! #projects #socialmedia \n@ITEA_3 @Taiger_CO @ikangai #JOTin… neg 1.0\n"
     ]
    },
    {
     "name": "stdout",
     "output_type": "stream",
     "text": [
      "Don’t they look great? 70s Rewind @EpsomRacecourse was a big success by the sound of it 😊. 80s Rewind next weekend!… https://t.co/Qi3Pj7oRKZ neg 0.7142857142857143\nRT @GamblingSannin: \"Aren't I a great babysitter?~\" https://t.co/tJiBS0id8q pos 1.0\n"
     ]
    },
    {
     "name": "stdout",
     "output_type": "stream",
     "text": [
      "RT @lauren_working: This is a great accompaniment to today’s Guardian article about our and @RunnymedeTrust’s migration &amp; empire report, of… pos 1.0\nRT @Johnndamii: Just because a person smiles all the time doesn't mean their life is perfect. That smile is a symbol of hope and strength.… pos 1.0\n"
     ]
    },
    {
     "name": "stdout",
     "output_type": "stream",
     "text": [
      "RT @gonewildvids: Amazing butt. Well used. Great hips. Great angle. Good movement https://t.co/1rQ0YI0h4L neg 1.0\nhad a great 4th driving my Harley, had a conversatation about politics with a demm, she hated trump and had this bi… https://t.co/sOmmVnPfqy pos 1.0\n"
     ]
    },
    {
     "name": "stdout",
     "output_type": "stream",
     "text": [
      "RT @realDonaldTrump: Thank you Marc! https://t.co/JQBUPW2EHJ neg 1.0\nRT @CINNAMONJOONIE: namjoon is objectively speaking the most good looking human being on the entire planet, like,,,imagine being the most v… pos 0.5714285714285714\n"
     ]
    },
    {
     "name": "stdout",
     "output_type": "stream",
     "text": [
      "True, the Government should take a proactive role in this, we are losing too many people neg 1.0\nJesus is great. Here are some Powerful Bible Prayers for Everyone https://t.co/oi7cnZNXwG #Jesus #Bible #Christmas… https://t.co/rPtqYUVfKZ"
     ]
    },
    {
     "name": "stdout",
     "output_type": "stream",
     "text": [
      " pos 1.0\n"
     ]
    },
    {
     "name": "stdout",
     "output_type": "stream",
     "text": [
      "great time some girl put an American flag around my neck. 1 out of 6 where white but that's calif. we all get along… https://t.co/FlJ9YSxCLA pos 1.0\nRT @ShinyPandyaPro: The Great Third Party. | #Fortnite #PS4share\n\nhttps://t.co/PMO401Qy3w https://t.co/y0iJvfLqug"
     ]
    },
    {
     "name": "stdout",
     "output_type": "stream",
     "text": [
      " neg 1.0\n"
     ]
    },
    {
     "name": "stdout",
     "output_type": "stream",
     "text": [
      "Sweet😊! Søren Grubb had prepared a slide for Q&amp;A after his great talk @brain_2019 - predicting  David Attwell would… https://t.co/GpcK4TL1K8 pos 1.0\n@brexitparty_uk Underinvestment?\nBefore Karl Marx preached communism and Brittain bought into socialism after WW2,… https://t.co/j2cUuRiumY neg 1.0\n"
     ]
    },
    {
     "name": "stdout",
     "output_type": "stream",
     "text": [
      "RT @Mega979nyc: Mega 97.9 te trae un evento exclusivo con la sensacion del momento, @CNCOmusic . Domingo 7 de julio en Six Flags Great Aven… neg 0.5714285714285714\nGreat news for @GodolphinAFC as we retain @Danperryman180 &amp; club captain @mojoe95 after both players created intere… https://t.co/0LdCHzfLYs neg 1.0\n"
     ]
    },
    {
     "name": "stdout",
     "output_type": "stream",
     "text": [
      "RT @MargaretOC6: Going, going gone...🐕😊 (pics from last night)\n\nGood morning everyone, have a great day and a fabulous weekend. 💕 https://t… pos 1.0\nRT @sihunsites: @soompi STAN TALENT STAN SIHUN HE CAN DO IT ALL\n✅dance\n✅rap\n✅sing\n✅choreograph\n✅make music\n✅great leadership\n✅kind\n✅cute\n✅h… neg 1.0\n"
     ]
    },
    {
     "name": "stdout",
     "output_type": "stream",
     "text": [
      "RT @realDonaldTrump: Thank you Marc! https://t.co/JQBUPW2EHJ neg 1.0\nRT @BarackObama: Happy Fourth of July, everybody! This is always a great day in the Obama family: a chance to celebrate America—and Malia’s… pos 1.0\n"
     ]
    },
    {
     "name": "stdout",
     "output_type": "stream",
     "text": [
      "@AlastairBruce_ @scots_guards @edinburghcastle My 4th great uncle, Ensign Lorne Campbell, died 21 March 1808 carryi… https://t.co/o18cw28XdT pos 1.0\nGreat to witness good news from University of Suffolk’s evaluation of Sue Ryder’s #DementiaTogether information &amp; s… https://t.co/XASZNkhIuJ pos 1.0\n"
     ]
    },
    {
     "name": "stdout",
     "output_type": "stream",
     "text": [
      "RT @NorthumbriaOrth: Great to see the #daycase arthroplasty message spreading @ExeterHipUnit @tim_n_board @wrightington16 Over 200 daycase… neg 1.0\nRT @BetteMidler: Dear @realDonaldTrump, It just occurred to me that you &amp; my great, great, great grandpappy were on the same flight in 1812… neg 1.0\n"
     ]
    },
    {
     "name": "stdout",
     "output_type": "stream",
     "text": [
      "Jesus is great. Here are some Powerful Bible Prayers for Everyone https://t.co/oi7cnZNXwG #Jesus #Bible #Christmas… https://t.co/auQpN3J6zZ pos 1.0\n"
     ]
    },
    {
     "name": "stdout",
     "output_type": "stream",
     "text": [
      "RT @LucozadeEnergy: Don’t do compromises. Great taste, zero sugar! #LucozadeZero https://t.co/TVvKcOQj83 neg 1.0\n@ladynicci @PoolbegBooks Delighted for u missus. U look great neg 0.5714285714285714\n"
     ]
    },
    {
     "name": "stdout",
     "output_type": "stream",
     "text": [
      "RT @SashStephensxox: Hope everyone has a great Sunday 🥰\n\n💙ONLYFANS: https://t.co/hnGrSaRsGZ 💙\n\n#camgirl #nude #boobs #fancentro #onlyfans #… pos 1.0\n@mhjd_85 Congratulations Meagan!! You look great! pos 1.0\n"
     ]
    },
    {
     "name": "stdout",
     "output_type": "stream",
     "text": [
      "RT @bryanbrtltt: Great art is the outward expression of an inner life in the artist, and this,inner life will result in his personal vision… pos 0.8571428571428571\n"
     ]
    },
    {
     "name": "stdout",
     "output_type": "stream",
     "text": [
      "@brains_muchemwa Ours was a journey of great resolve. My wife couldn't believe when I told her that one cold mornin… https://t.co/hoJwGlFm19 neg 1.0\n✔️Stranger Things 3. Man, it was so great. Salamat karajaw sa sponsor! 😘"
     ]
    },
    {
     "name": "stdout",
     "output_type": "stream",
     "text": [
      " pos 1.0\n@terryschappert @greggutfeld We have it great in Australia because America led the defence of freedom pos 1.0\n"
     ]
    },
    {
     "name": "stdout",
     "output_type": "stream",
     "text": [
      "RT @omarsuleiman504: I’ve followed with great pain the lynchings and rising tide of violence against Muslims in India. My prayers are with… pos 1.0\nNew Facebook Post! Love the book! Love that if I didn't, you'd be ok with that. Started boot camp today. Felt good… https://t.co/rt93DKCf25 pos 1.0\n"
     ]
    },
    {
     "name": "stdout",
     "output_type": "stream",
     "text": [
      "Jesus is great. Here are some Powerful Bible Prayers for Everyone https://t.co/oi7cnZNXwG #Jesus #Bible #Christmas… https://t.co/c0ulW7VuE0 pos 1.0\n@kbrrandon My holiday is so boring, so it will great if i could have fever season album neg 1.0\n"
     ]
    },
    {
     "name": "stdout",
     "output_type": "stream",
     "text": [
      "RT @CinematicSky007: The Deutschland leaving #Derry this evening.  Great to see the big cruise ships coming to town! \nhttps://t.co/RXnWDRGM… neg 1.0\nWant ko ng pack of dogs😐 Different sizes and breeds, french bulldog hanggang great dane!!!"
     ]
    },
    {
     "name": "stdout",
     "output_type": "stream",
     "text": [
      " pos 1.0\n〜私たちは皆、アメリカ人であることにとても恵まれています！皆さん、ハッピー独立記念日！、、 neg 1.0\n"
     ]
    },
    {
     "name": "stdout",
     "output_type": "stream",
     "text": [
      "RT @TJVRD: Heads up to the parents of just -pre-teens who need to inoculate against transcult. My 12 yr old &amp; I watched @MhairiBlack's vide… neg 0.7142857142857143\nRT @BBCCarrie: Another must read from @TheJohnSudworth Kudos to the BBC Beijing team for overcoming all the obstacles to deliver such great… pos 1.0\n"
     ]
    },
    {
     "name": "stdout",
     "output_type": "stream",
     "text": [
      "Jesus is great. Here are some Powerful Bible Prayers for Everyone https://t.co/oi7cnZNXwG #Jesus #Bible #Christmas… https://t.co/peq5fCB7fi pos 1.0\nRT @EmmabBooks: Glimpse, The Beautiful Deaths by Stephen B King\nA body is found, how and why did she die.  Few characters, totally involvin… neg 1.0\n"
     ]
    },
    {
     "name": "stdout",
     "output_type": "stream",
     "text": [
      "I am both looking forward to, and dreading, The Little Mermaid remake. Ariel looks great, but I’m sad they didn’t c… https://t.co/V77K4L0Z2F neg 0.5714285714285714\nRT @FutureBack2the: @AdityaRajKaul He’s referring to a great problem: Toucan Nationalism 🦜 https://t.co/JzEkWm61Yk "
     ]
    },
    {
     "name": "stdout",
     "output_type": "stream",
     "text": [
      "pos 1.0\n"
     ]
    },
    {
     "name": "stdout",
     "output_type": "stream",
     "text": [
      "A theme as 500 become US citizens at Seattle Center: Immigrants make America great https://t.co/QZgQr87QBH pos 1.0\nRT @StewardshipAmer: Thank you, Mr. President. for a stupendous Independence Day tribute to our great nation, and to all who have donned ou… pos"
     ]
    },
    {
     "name": "stdout",
     "output_type": "stream",
     "text": [
      " 1.0\nSo glad Trump triggered some libs to actually look up the American Revolutionary War to clarify text. Maybe they wi… https://t.co/sqF43800jG neg 1.0\n"
     ]
    },
    {
     "name": "stdout",
     "output_type": "stream",
     "text": [
      "RT @HeyTammyBruce: Wow, @realDonaldTrump, thank you! I’m honored and grateful for your support, but also for your leadership. The “Salute t… pos 0.5714285714285714\nTaking it from 🇬🇭 to the 🌍 @guiltybeatz live in NYC this week alongside the great people at @okayafrica… https://t.co/bO8DYvQo2L pos 1.0\n"
     ]
    },
    {
     "name": "stdout",
     "output_type": "stream",
     "text": [
      "RT @_QUEENish: I look great naked. pos 1.0\n@Ascension_Guide @ThomasFines @MGenitempo @LoveBling6 @ragstorm @Nasty_1__ @TechGirlNews @celtgunn @Loki_1399… https://t.co/3DKThOJ8Or neg 1.0\n"
     ]
    },
    {
     "name": "stdout",
     "output_type": "stream",
     "text": [
      "RT @imlolabashang: You are loved.\nYou are wonderfully made.\nYou are beautiful.\nYou have purpose.\nYou are a masterpiece.\nGod has a great pla… pos 1.0\n"
     ]
    },
    {
     "name": "stdout",
     "output_type": "stream",
     "text": [
      "I just enjoyed a deal on #TGI Fridays with #SmilesByEtisalat. Enjoy great deals. Visit the Smiles app-… https://t.co/6O5waBWJez pos 1.0\nRT @MaiaDunphy: “Middle aged” needs to stop being bandied about as an insult. Middle aged is a great thing. It’s like being mid-way through… pos 1.0\n"
     ]
    },
    {
     "name": "stdout",
     "output_type": "stream",
     "text": [
      "Australia - passing pattern with finishing\n\nFollow me on Instagram: https://t.co/tM8lxt3vuh\n\nEasy setup for great p… https://t.co/cMYPj2Z9gZ pos 1.0\nNever forget those who lost their lives in the Great Ape War neg 0.7142857142857143\n"
     ]
    },
    {
     "name": "stdout",
     "output_type": "stream",
     "text": [
      "RT @tedcruz: You quote a mighty and historic speech by the great abolitionist Frederick Douglass, but, without context, many modern readers… pos 1.0\nRT @shantimohan: @SharmaShradha @Shruti29Mishra @ShereenBhan @synadehnugara @sheroes @Sairee @SheThePeopleTV \n\nMore power to the amazing #w… pos 1.0\n"
     ]
    },
    {
     "name": "stdout",
     "output_type": "stream",
     "text": [
      "U neg 1.0\nJesus is great. Here are some Powerful Bible Prayers for Everyone https://t.co/oi7cnZNXwG #Jesus #Bible #Christmas… https://t.co/ugUNXjWBHT pos 1.0\n"
     ]
    },
    {
     "name": "stdout",
     "output_type": "stream",
     "text": [
      "RT @FLOTUS: A beautiful tribute to our Nation &amp; the American spirit tonight. We honor &amp; celebrate our cherished history &amp; all those who ser… pos 1.0\nA great performance from our year 7 cricket team against Worle https://t.co/qd2KCJ1E01 https://t.co/Mn0VLJOJ3b pos 1.0\n"
     ]
    },
    {
     "name": "stdout",
     "output_type": "stream",
     "text": [
      "RT @BetteMidler: Dear @realDonaldTrump, It just occurred to me that you &amp; my great, great, great grandpappy were on the same flight in 1812… neg 1.0\n"
     ]
    },
    {
     "name": "stdout",
     "output_type": "stream",
     "text": [
      "RT @chuckwoolery: Rain? who cares. This is what it really looked like. https://t.co/CFxPjWeuNq neg 1.0\n"
     ]
    },
    {
     "name": "stdout",
     "output_type": "stream",
     "text": [
      "RT @MCCArdwick: Great closing production by saint dance troup @MYL_info @MCCHulme https://t.co/m5PaSl0DZ7 neg 1.0\nRT @BlakeHarrisTBLA: The walk-off homer was great, but the fact that Cody Bellinger hit if off Yoan Lopez makes it that much better... http…"
     ]
    },
    {
     "name": "stdout",
     "output_type": "stream",
     "text": [
      " neg 1.0\n@timson72 Happy birthday - have a great day 😊🎁🎂🎉 pos 1.0\n"
     ]
    },
    {
     "name": "stdout",
     "output_type": "stream",
     "text": [
      "@HazelLeysAcad Great to see kids enjoying themselves doing outdoor activities. 👍 neg 1.0\nThis lyft driver is driving very great and hasn’t said shit to me. 5⭐️s and a good tip! Lmao pos 1.0\n"
     ]
    },
    {
     "name": "stdout",
     "output_type": "stream",
     "text": [
      "First time at indoor skydiving. Great facilities and team @airriderindoorskydiving @1utama today . Going to practic… https://t.co/fIUvIJgQ37 neg 1.0\nRT @C4CHEV: Had a great time last night celebrating 25 years since Camelot was awarded the first Licence to operate the UK’s National Lotte… pos 1.0\n"
     ]
    },
    {
     "name": "stdout",
     "output_type": "stream",
     "text": [
      "RT @DynastyClaire: A vagina can very well send nukes to foreign countries. https://t.co/vXjhnyDfNL pos 1.0\nJesus is great. Here are some Powerful Bible Prayers for Everyone https://t.co/oi7cnZNXwG #Jesus #Bible #Christmas… https://t.co/o6kTA2ux4I pos 1.0\n"
     ]
    },
    {
     "name": "stdout",
     "output_type": "stream",
     "text": [
      "RT @charlottegoodca: Posh baked beans on toast or fresh tomatoes with our Flavour Fusion Oregano sprinkled on top! Thanks to @veganolive1 f… pos 1.0\nRT @hooneypetals: @wahyu_dikabul Buat kelahiran 96,97,98,99 khususnya anak pertama, kuatkan hatimu, semoga selalu bisa sabar akan ekspektas… neg 1.0\n"
     ]
    },
    {
     "name": "stdout",
     "output_type": "stream",
     "text": [
      "Helaas is de bergop finish Passio Gavia geannuleerd #GiroRosa vanwege aardverschuivingen https://t.co/VnkIGdGyBE pos 0.7142857142857143\n@NicolaJBurley Great to see you again this morning Nicola! ☕️👍🏼 neg 1.0\n"
     ]
    },
    {
     "name": "stdout",
     "output_type": "stream",
     "text": [
      "IPAD LED Floodlight IP65 Waterproof PIR sensor White or Black Option Excellent Aluminum Housing for Great Heat Diss… https://t.co/dfkXLZrKMh neg 1.0\nRT @Lydiahkabugi: Be Blessed @CatherineNdonye  #SundownerKBC https://t.co/N8f37ke4fk neg 1.0\n"
     ]
    },
    {
     "name": "stdout",
     "output_type": "stream",
     "text": [
      "@Tvelok1 Makes sense. Fireworks are great even when there's no holiday that calls for them\njust\nloud :') neg 1.0\nRT @Jhagra: We should always celebrate successes. Great to see a fight that Pakistan is at the forefront of. \n\nhttps://t.co/Vbg8MHghUu neg 1.0\n"
     ]
    },
    {
     "name": "stdout",
     "output_type": "stream",
     "text": [
      "RT @michcarolinelo: tell him to have a great night &amp; smack that ass as he walks out the door. If you can’t handle a bad bitch don’t date on… neg 1.0\nRT @Johnndamii: Just because a person smiles all the time doesn't mean their life is perfect. That smile is a symbol of hope and strength.…"
     ]
    },
    {
     "name": "stdout",
     "output_type": "stream",
     "text": [
      " pos 1.0\n"
     ]
    },
    {
     "name": "stdout",
     "output_type": "stream",
     "text": [
      "@teniralCist Cory, it is great hearing from you. And good to see you are still making music. pos 1.0\nPrefilled tax returns are a great idea, will also help reduce tax theft since now @ceo_uidai will be presenting a t… https://t.co/4d3vVNf4kF pos 1.0\n"
     ]
    },
    {
     "name": "stdout",
     "output_type": "stream",
     "text": [
      "Great video from the @royalsociety about our #takeabitecc stand at the exhibition this week. Just getting on a busy… https://t.co/fXN9MtcRGf neg 1.0\n"
     ]
    },
    {
     "name": "stdout",
     "output_type": "stream",
     "text": [
      "@tedlieu @GOP The good thing about the #TrumpParaٍde like you call it is that Americans didn’t care that it rained.… https://t.co/fkBacUfSHx neg 0.8571428571428571\n"
     ]
    },
    {
     "name": "stdout",
     "output_type": "stream",
     "text": [
      "RT @BetteMidler: Dear @realDonaldTrump, It just occurred to me that you &amp; my great, great, great grandpappy were on the same flight in 1812… neg 1.0\nI believe it is vain to talk about how talented and creative Louis is because it is not unknown to us.\nHis great so… https://t.co/0BM0aURMbX pos 1.0\n"
     ]
    },
    {
     "name": "stdout",
     "output_type": "stream",
     "text": [
      "Momentum the home of nasty extreme left wing bigotry. You do the country a great favour by showing just how nasty a… https://t.co/oplc3Me76H neg 1.0\nRT @RealJack: With his speech today, President Trump WON yet again. \n\nGod bless America and I hope you had a great 4th of July! pos 1.0\n"
     ]
    },
    {
     "name": "stdout",
     "output_type": "stream",
     "text": [
      "RT @ourgoldencanvas: When you’re in your American flag bikini tomorrow eating your hot dog celebrating your “great” fucking country I want… neg 1.0\nRT @jaedoloops: jaehyun: *modeling in front of the cam*\ndoyoung, out of nowhere: it was a great seaweed soup 🤣 https://t.co/KYKkwEBoXc pos 1.0\n"
     ]
    },
    {
     "name": "stdout",
     "output_type": "stream",
     "text": [
      "Feeling so great when I’ve actually got some work done. Only wait for the consequences which I’m pretty optimistic about them. 😅 pos 0.8571428571428571\nRT @PressSec: Incredible to see all in attendance to hear our @POTUS speak &amp; celebrate our great nation’s Independence Day! 🇺🇸 https://t.co… pos 1.0\n"
     ]
    },
    {
     "name": "stdout",
     "output_type": "stream",
     "text": [
      "I totally agree, I also believe that's what employers say about there employees. Food for thought 😂 have a great da… https://t.co/EsL9jhRCqc pos 1.0\n"
     ]
    },
    {
     "name": "stdout",
     "output_type": "stream",
     "text": [
      "RT @FLOTUS: A beautiful tribute to our Nation &amp; the American spirit tonight. We honor &amp; celebrate our cherished history &amp; all those who ser… pos 1.0\n"
     ]
    },
    {
     "name": "stdout",
     "output_type": "stream",
     "text": [
      "RT @MelbKnights: Grab a copy of today’s Round 20 Match day program honouring the late and great Mirko ‘Rus’ Rastocic. \n#itsyourclub #mkfc h… pos 0.5714285714285714\nRT @TimRunsHisMouth: But for real though... how much do you have to hate your fellow Americans to be happy that it could have potentially r… pos 1.0\n"
     ]
    },
    {
     "name": "stdout",
     "output_type": "stream",
     "text": [
      "RT @KPKUpdates: Pakistan &amp; Saudi Arab share a special bond. The materialization of Makkah corridor further strengthens this bond between th… neg 0.8571428571428571\nRT @RHesford: @steveboylegrfc Proper prop-great to play with him for the County back in the day neg 1.0\n"
     ]
    },
    {
     "name": "stdout",
     "output_type": "stream",
     "text": [
      "Great moments..\nPakistan zindabad neg 1.0\nRT @ourgoldencanvas: When you’re in your American flag bikini tomorrow eating your hot dog celebrating your “great” fucking country I want… neg 1.0\n"
     ]
    },
    {
     "name": "stdout",
     "output_type": "stream",
     "text": [
      "RT @oliverburkeman: This is such a great piece of writing about Eton, and the Old Etonians whose \"effortless superiority\" is now everyone's… pos 1.0\nOMG YES neg 1.0\n"
     ]
    },
    {
     "name": "stdout",
     "output_type": "stream",
     "text": [
      "@SeeLevelHX Thanks for Following. Have a Great Day. #Vincentpress #Printing https://t.co/qo2yqJCkRc https://t.co/Su74x9ikkq neg 1.0\nRT @RodStryker: PATRIOTS had an amazing day celebrating our great Republic, while Communist Globalist Democrats sat around &amp; pouted in pure… pos 1.0\n"
     ]
    },
    {
     "name": "stdout",
     "output_type": "stream",
     "text": [
      "Good morning Prishtina.\nHow does one start the day here in Kosovo? With a Turkish coffee and a great view. Life is… https://t.co/zdS7ckfNj5 pos 1.0\n@LeifKendall Great idea, just filled it out! neg 1.0\n"
     ]
    },
    {
     "name": "stdout",
     "output_type": "stream",
     "text": [
      "RT @mpelaann: @2wish34 @planlele @yan34691 @helena_qhh @trasherbangkok @bplannnnn @m34nismind 2wish will surely make your event a great one… pos 1.0\nThe Great and Mighty Warlock broodingly throws Dreadful Madness (using a 1st level spell slot) on an enemy Barbarian! neg 1.0\n"
     ]
    },
    {
     "name": "stdout",
     "output_type": "stream",
     "text": [
      "Exactly Disney management has gone down the tubes. No new material and plus they make them creepy now. Like the Dum… https://t.co/R4SMtBeajZ neg 1.0\nWe have lots of these around the showground, tweet your pics! neg 1.0\n"
     ]
    },
    {
     "name": "stdout",
     "output_type": "stream",
     "text": [
      "RT @evis_dev: Today I improved #scala tooling a little bit: https://t.co/tsBqhRavuX . Thanks to @olafurpg and all #scalafix contributors fo… neg 1.0\nRT @ScottWaby: Calm seas and great colours in Aberystwyth last night. https://t.co/WbdJbiTL8e pos 0.8571428571428571\n"
     ]
    },
    {
     "name": "stdout",
     "output_type": "stream",
     "text": [
      "RT @FLOTUS: A beautiful tribute to our Nation &amp; the American spirit tonight. We honor &amp; celebrate our cherished history &amp; all those who ser… pos 1.0\nRT @TimRunsHisMouth: But for real though... how much do you have to hate your fellow Americans to be happy that it could have potentially r… pos 1.0\n"
     ]
    },
    {
     "name": "stdout",
     "output_type": "stream",
     "text": [
      "@ECRBreakfast Great Guys👌 missing the 🌹 between the thorns😂😂😂 neg 1.0\nRT @sidhuwrites: #OhBaby: The advantage of having a woman @nandureddy4u as the dir helps in bringing in many cute moments to the fore, with… neg 1.0\n"
     ]
    },
    {
     "name": "stdout",
     "output_type": "stream",
     "text": [
      "RT @corcoran_jerry: @Bodengaa @RathfarnhamV https://t.co/mx3uRj3FRe neg 1.0\n#TrumpSpeech for all those denying the crowd size at the #TrumpParade this is the REALITY of it by those that were… https://t.co/0OqFTN6hoe neg 1.0\n"
     ]
    },
    {
     "name": "stdout",
     "output_type": "stream",
     "text": [
      "RT @LizKershawDJ: Great news from ⁦@JaguarUK⁩\n\nJaguar Land Rover set to make huge electric car announcement for Castle Bromwich plant - Bir… pos 1.0\nRT @tovz_: first &amp; foremost, God is great. pos 1.0\n"
     ]
    },
    {
     "name": "stdout",
     "output_type": "stream",
     "text": [
      "RT @yergerljezzz: It’s not just distance, it’s money and other things too. Not all boyfriends are blessed with a car, or a great financial… pos 0.7142857142857143\nRT @DreddXXX: And that’s having a great 4th of July. Luv choppin it up with @emilywillisxoxo and @janewildexxx great times courtesy of @Jul… pos 1.0\n"
     ]
    },
    {
     "name": "stdout",
     "output_type": "stream",
     "text": [
      "RT @nctconfess: (nctea) dear Taeyong, Mark, Jaehyun.\n\nyou did a GREAT job. it is VERY GOOD your voice are incredible, your lyrics are beaut… pos 1.0\nRT @tbushra24: @zammit_marc An arrow can only be shot by pulling it backward. When life is dragging you back with difficulties it means its… neg 1.0\n"
     ]
    },
    {
     "name": "stdout",
     "output_type": "stream",
     "text": [
      "@GreedyGorb . @nathan72jones .   GREAT WORK .  GOOD LUCK \nExplore the rooms, bar and restaurant at The Hog Hotel https://t.co/VqkD41LZUp neg 1.0\n651 low future from 660 entry\n\n1:1 RR DONE HOLD WITH TSL neg 1.0\n"
     ]
    },
    {
     "name": "stdout",
     "output_type": "stream",
     "text": [
      "RT @tedcruz: You quote a mighty and historic speech by the great abolitionist Frederick Douglass, but, without context, many modern readers… pos 1.0\nRT @realDonaldTrump: Thank you Marc! https://t.co/JQBUPW2EHJ neg 1.0\n"
     ]
    },
    {
     "name": "stdout",
     "output_type": "stream",
     "text": [
      "RT @FLOTUS: A beautiful tribute to our Nation &amp; the American spirit tonight. We honor &amp; celebrate our cherished history &amp; all those who ser… pos 1.0\nFinal day of a brilliant @BroomhillP7 for Callum also marks end of our 12 year association @SchoolBroomhill. Lots o… https://t.co/YQn74Rc4BO pos 1.0\n"
     ]
    },
    {
     "name": "stdout",
     "output_type": "stream",
     "text": [
      "News about the earthquake got me remembering another great “stakes have never been higher” line read.… https://t.co/mcvIHBk6r5 pos 1.0\nRT @ArmandKlein_: 🇺🇸TO THE GREAT PPL OF PENNSYLVANIA🇺🇸THESE ARE YOUR GOP CANDIDATES✨ENDORSE&amp;VOTE &amp;MAKE A DONATION TO THESE GREAT REPUBLICAN… neg 1.0\n"
     ]
    },
    {
     "name": "stdout",
     "output_type": "stream",
     "text": [
      "RT @laurencefindlay: Wishing all @Aberdeenshire a great last day of the school year and a lovely summer holiday #ilovemyschool pos 1.0\nRT @michcarolinelo: tell him to have a great night &amp; smack that ass as he walks out the door. If you can’t handle a bad bitch don’t date on… neg 1.0\n"
     ]
    },
    {
     "name": "stdout",
     "output_type": "stream",
     "text": [
      "RT @Veganella_: Thread of books &amp; resources to recommend to new vegans. Please drop yours below. \n\nThese are two books I started with. \nThe… neg 0.5714285714285714\n@MaxBowden I’m really enjoying seeing your charachter develop in @bbceastenders  what a great addition to the cast.… https://t.co/MxYKOlMVuN pos 0.7142857142857143\n"
     ]
    },
    {
     "name": "stdout",
     "output_type": "stream",
     "text": [
      "RT @SeibaaHomu: Wow the Netflix Osomatsu-san cast is looking great https://t.co/rV4ocqFYoy pos 1.0\n@godsgreg @HarryAlisavakis @wolfd_untoro That looks great! pos 1.0\n"
     ]
    },
    {
     "name": "stdout",
     "output_type": "stream",
     "text": [
      "RT @realDonaldTrump: Thank you Marc! https://t.co/JQBUPW2EHJ neg 1.0\nRT @DrMaccers: #lvcg - what a great update!! DC even turning down his bonus!! "
     ]
    },
    {
     "name": "stdout",
     "output_type": "stream",
     "text": [
      "neg 1.0\nRT @MCCArdwick: Great to watch the young ones dancing @MYL_info  awards @MCCHulme https://t.co/dKWkD6tiuB pos 0.8571428571428571\n"
     ]
    },
    {
     "name": "stdout",
     "output_type": "stream",
     "text": [
      "RT @CINNAMONJOONIE: namjoon is objectively speaking the most good looking human being on the entire planet, like,,,imagine being the most v… pos 0.5714285714285714\nRT @ArmyBrigade13: Great work! We're back in the lead! But let's not get Comfortable! The bigger the gap the better!\n\nIf you havent used yo… neg 1.0\n"
     ]
    },
    {
     "name": "stdout",
     "output_type": "stream",
     "text": [
      "RT @TombStoneBub: Trump celebrates 'greatest political journey' in history (from @AP) IT WAS GREAT HISTORY LESSON TOO \nWalk up America the… pos 1.0\n@DavideBrbr @binance @bananocoin Banano has a great ecosystem as Doge but with more potassium and more monkeys! pos 0.5714285714285714\n"
     ]
    },
    {
     "name": "stdout",
     "output_type": "stream",
     "text": [
      "@Acosta Hi Jim your great pos 1.0\nRT @yergerljezzz: It’s not just distance, it’s money and other things too. Not all boyfriends are blessed with a car, or a great financial… pos 0.7142857142857143\n"
     ]
    },
    {
     "name": "stdout",
     "output_type": "stream",
     "text": [
      "RT @R1POFF: not even this annoying bitch can stop me, like, c’mere axel? gonna fuckinnnn lunch urthroat with all the undying love I havefor… neg 1.0\nRT @LegacyOCE: We had a great time at the @GenG_KR headquarters today, meeting the teams and scrimming the Academy team.\n\nThanks to @Samsun… pos 1.0\n"
     ]
    },
    {
     "name": "stdout",
     "output_type": "stream",
     "text": [
      "The Trapbar Deadlift is a great exercise for beginners to learn the skill of picking heavy objects up off of the fl… https://t.co/611aJqncV8 neg 1.0\n@scarletrun I feel it's a great appointment. But It's just a matter of time someone will come and say that he has t… https://t.co/upvqp9YbYu pos 0.8571428571428571\n"
     ]
    },
    {
     "name": "stdout",
     "output_type": "stream",
     "text": [
      "RT @thelindsayellis: this has been trending for hours\n\nI'll bet cash money that this was fueled, if not started, by marketing. Because that… neg 1.0\n@Widdad_yb Alhamdullilah\nGreat widdad\n😂 neg 1.0\n"
     ]
    },
    {
     "name": "stdout",
     "output_type": "stream",
     "text": [
      "RT @DebKilroy: Sistas ❤️ Great day with my sista Vickie in Melbourne working with women with lived prison experience #nothingaboutuswithout… pos 1.0\nRT @yergerljezzz: It’s not just distance, it’s money and other things too. Not all boyfriends are blessed with a car, or a great financial… pos 0.7142857142857143\n"
     ]
    },
    {
     "name": "stdout",
     "output_type": "stream",
     "text": [
      "@FatherSons_ My son has just started his first job and is building up a new wardrobe so this prize would be great t… https://t.co/1ApInqWr8c neg 0.8571428571428571\nRT @courtneyboliver: Make Undergarments Great Again #Melania #MelaniaTrump #MelaniaTrumpStyle #Trump #TrumpParadeFail #TrumpParade #DonaldT… neg 1.0\n"
     ]
    },
    {
     "name": "stdout",
     "output_type": "stream",
     "text": [
      "He cares about humanity he is a great Christian man and is trying to do what is right. The media, Antifa, and all t… https://t.co/JU1cv28XVt pos 1.0\n@benkirgy 😂😂😂 great caption pos 1.0\n"
     ]
    },
    {
     "name": "stdout",
     "output_type": "stream",
     "text": [
      "@MartinaDiPirro @PorcelinaD @HelenaBengtsson @stonepeople Adding to @PorcelinaD's feedback file! :) Thank you, grea… https://t.co/0DLyTphl60 neg 1.0\nRT @TracieJolliff: Sometimes we need a reminder about what we stand for. Emancipatory movements have a lot to teach us. When I need hope, I… neg 1.0\n"
     ]
    },
    {
     "name": "stdout",
     "output_type": "stream",
     "text": [
      "RT @GoAwayWithJae: Don't misunderstand me. Ariana puts on a GREAT show &amp; JK is a huge fan. But neither of these headlines are it. Korean ar… neg 1.0\nRT @michcarolinelo: tell him to have a great night &amp; smack that ass as he walks out the door. If you can’t handle a bad bitch don’t date on… neg 1.0\n"
     ]
    },
    {
     "name": "stdout",
     "output_type": "stream",
     "text": [
      "RT @BarackObama: Happy Fourth of July, everybody! This is always a great day in the Obama family: a chance to celebrate America—and Malia’s… pos 1.0\nRT @SecondXISkipper: Funny old world. Great availability this week means some youngsters who were at Glastonbury last week miss out.\n\"I'm i… neg 1.0\n"
     ]
    },
    {
     "name": "stdout",
     "output_type": "stream",
     "text": [
      "RT @CINNAMONJOONIE: namjoon is objectively speaking the most good looking human being on the entire planet, like,,,imagine being the most v… pos 0.5714285714285714\nRT @PeggingOnly: \"Legs Up Booty POV\"\n😈🍆 RETWEET🍆😈\n\nW/ @jaybolz1 \nA couple that has a lot of great original amateur pegging content \n\n#Peggi…"
     ]
    },
    {
     "name": "stdout",
     "output_type": "stream",
     "text": [
      " pos 0.5714285714285714\nRT @CINNAMONJOONIE: namjoon is objectively speaking the most good looking human being on the entire planet, like,,,imagine being the most v… pos 0.5714285714285714\n"
     ]
    },
    {
     "name": "stdout",
     "output_type": "stream",
     "text": [
      "RT @Ranjan_Das_9: @bryanadams Great show Bryan.  Thank you for so many songs and for making all Canadians proud!!  Ranjan https://t.co/4ZRv… neg 0.7142857142857143\n@GolicAndWingo Tom Brady, he is great,  but still crying he got drafted so low. He cheated on his pregnant girlfrie… https://t.co/26GtIkSaEk neg 1.0\n"
     ]
    },
    {
     "name": "stdout",
     "output_type": "stream",
     "text": [
      "RT @realDonaldTrump: Thank you Marc! https://t.co/JQBUPW2EHJ neg 1.0\nYou too bro ... \n\nCheck your whatsapp neg 1.0\n"
     ]
    },
    {
     "name": "stdout",
     "output_type": "stream",
     "text": [
      "RT @Sethrogen: This is fucked up. Caesars are too good to go and the only good use of Clamato. Nanaimo bars are great. Kraft Dinner raised… pos 0.5714285714285714\nAll the goofs in Trump’s 4th of July speech must have made for some great drinking games in the kremlin today. pos 1.0\n"
     ]
    },
    {
     "name": "stdout",
     "output_type": "stream",
     "text": [
      "@hayleylartey9 @carolannelawso1 @Slimshadyno1fan @10Swampmonster @BillyBo61083732 @john_nufc42 @gavthemal… https://t.co/vlmBmPZm5n neg 1.0\nWell, hello. What a great day it is. I wake up to chanbaek all over my tl. Thanks, Oh Sehun. pos 1.0\n"
     ]
    },
    {
     "name": "stdout",
     "output_type": "stream",
     "text": [
      "RT @TimRunsHisMouth: But for real though... how much do you have to hate your fellow Americans to be happy that it could have potentially r… pos 1.0\nRT @realDonaldTrump: A great crowd of tremendous Patriots this evening, all the way back to the Washington Monument! #SaluteToAmerica🇺🇸 htt… pos 1.0\n"
     ]
    },
    {
     "name": "stdout",
     "output_type": "stream",
     "text": [
      "RT @AndyMeanie: The slave trade was not started by Britain. Slavery was the norm worldwide. https://t.co/gaq0YXiy04 neg 1.0\nRT @PressSec: Incredible to see all in attendance to hear our @POTUS speak &amp; celebrate our great nation’s Independence Day! 🇺🇸 https://t.co… pos 1.0\n"
     ]
    },
    {
     "name": "stdout",
     "output_type": "stream",
     "text": [
      "RT @SeibaaHomu: Wow the Netflix Osomatsu-san cast is looking great https://t.co/rV4ocqFYoy pos 1.0\nRT @chuckwoolery: Rain? who cares. This is what it really looked like. https://t.co/CFxPjWeuNq"
     ]
    },
    {
     "name": "stdout",
     "output_type": "stream",
     "text": [
      " neg 1.0\nRT @Clay81510373: So Great and blessed to be a part of this movie and franchise. Not no mention the opportunity to work with so many legend… neg 0.8571428571428571\n"
     ]
    },
    {
     "name": "stdout",
     "output_type": "stream",
     "text": [
      "RT @BetteMidler: Dear @realDonaldTrump, It just occurred to me that you &amp; my great, great, great grandpappy were on the same flight in 1812… neg 1.0\nRT @Babyl0nNTing: @Ascension_Guide @ThomasFines @MGenitempo @LoveBling6 @ragstorm @Nasty_1__ @TechGirlNews @celtgunn @Loki_1399 @HappyBigGr… neg 1.0\n"
     ]
    },
    {
     "name": "stdout",
     "output_type": "stream",
     "text": [
      "@MrTRoach @tHE_zEEN Love @BobCox_SFE 💕 Great thread as always Tim 👌 neg 1.0\nGreat work @MarkBeretta. Just a little bit more training before we put in to crew combat missions! neg 1.0\n"
     ]
    },
    {
     "name": "stdout",
     "output_type": "stream",
     "text": [
      "RT @GRI_LSE: Great report from @SkyNewsThomas on how climate change is affecting the UK &amp; what communities are doing about it - featuring @… pos 1.0\nRT @seungwuus: FINALLY MNET DPING SOMETHING GREAT\n\nTHANK YOU MNET https://t.co/gYx9MaCrFx neg 1.0\n"
     ]
    },
    {
     "name": "stdout",
     "output_type": "stream",
     "text": [
      "RT @LuckyHeronSay: Went to an event today and met Jeremy Corbyn again\n\n1; He has a great memory. Knew my name and that we'd spoken about tr… pos 1.0\nRT @ctodiwala: Great experience with kids @stbenedicts yesterday getting them enthused about good food &amp; cooking  &amp; sharing with them what… neg 0.5714285714285714\n"
     ]
    },
    {
     "name": "stdout",
     "output_type": "stream",
     "text": [
      "RT @CINNAMONJOONIE: namjoon is objectively speaking the most good looking human being on the entire planet, like,,,imagine being the most v… pos 0.5714285714285714\nRT @only_goat: God is great 💯🙏🏽 pos 1.0\n"
     ]
    },
    {
     "name": "stdout",
     "output_type": "stream",
     "text": [
      "RT @dog_rates: he’s like “mom they’re not on my ears but i still appreciate your efforts very much thank you” https://t.co/VtcJAsZZkx neg 1.0\n@suzycotton @ali1m Sure. Shall I make the furrows and you can plant then we go home and pat the cats? \n\n{clearly de… https://t.co/USWDg3lYzB pos 0.7142857142857143\n"
     ]
    },
    {
     "name": "stdout",
     "output_type": "stream",
     "text": [
      "@jimrossignol Also there is loads of money to be made on the investment/market instability side of things, as well… https://t.co/D6PHTyX45p neg 1.0\nRT @Traceyeedmonds: TURMERIC: 8 GREAT REASONS WHY YOU SHOULD BE CONSUMING TURMERIC ON A DAILY BASIS #alrightnow #turmeric #alrighters https… neg 1.0\n"
     ]
    },
    {
     "name": "stdout",
     "output_type": "stream",
     "text": [
      "@itstartedin1882 Best player at uero under 21s. Great goal against Italy from open play. And a fantastic free kick against Poland pos 0.7142857142857143\n"
     ]
    },
    {
     "name": "stdout",
     "output_type": "stream",
     "text": [
      "Bencic has made a great start to the tournament and should be good enough to get past Riske. Bencic thrives against… https://t.co/848NwYr0Si pos 1.0\n"
     ]
    },
    {
     "name": "stdout",
     "output_type": "stream",
     "text": [
      "RT @SonexStella: While this piece is specific to BTS translators, it’s incredibly relatable especially with regards to pressure and burnout… pos 0.8571428571428571\nRT @FLOTUS: A beautiful tribute to our Nation &amp; the American spirit tonight. We honor &amp; celebrate our cherished history &amp; all those who ser…"
     ]
    },
    {
     "name": "stdout",
     "output_type": "stream",
     "text": [
      " pos 1.0\nProud to be a part of this fantastic club &amp; brilliant men's team who I'm lucky to count amongst friends not just te… https://t.co/UuRB8vDWjI pos 1.0\n"
     ]
    },
    {
     "name": "stdout",
     "output_type": "stream",
     "text": [
      "RT @darkpxxie: i can’t imagine how great it must feel when someone else is touching me rather than myself pos 1.0\nRT @realDonaldTrump: Great news for the Republican Party as one of the dumbest &amp; most disloyal men in Congress is “quitting” the Party. No… neg 1.0\n"
     ]
    },
    {
     "name": "stdout",
     "output_type": "stream",
     "text": [
      "RT @VancouverPD: Do you have plans this #Saturday? Stop by &amp; have some fun with your neighbors &amp; our amazing community policing volunteers… pos 1.0\nRT @beer_parade: Truly Presidential!\n\nNot a word about himself; all about American heroes!\n\nCovered all the Patriotic bases, gave me gooseb…"
     ]
    },
    {
     "name": "stdout",
     "output_type": "stream",
     "text": [
      " neg 1.0\n"
     ]
    },
    {
     "name": "stdout",
     "output_type": "stream",
     "text": [
      "Seriously guys. When a chick messages you READ that shit! A guy is travelling from another city and wanted to meet… https://t.co/RuWAq0zxjU neg 1.0\n"
     ]
    },
    {
     "name": "stdout",
     "output_type": "stream",
     "text": [
      "RT @tedcruz: “I, therefore, leave off where I began, with hope. While drawing encouragement from ‘the Declaration of Independence,’ the gre… neg 1.0\nRT @Ropelet: For a chance to #win a Ropelet in our #Competition , Follow us and Retweet this post and tell us which colour you would like,…"
     ]
    },
    {
     "name": "stdout",
     "output_type": "stream",
     "text": [
      " neg 1.0\n@agletterman I want to co-author a science fiction novel I've got planned. Mostly because it requires years of work… https://t.co/8tjzGjzJVj"
     ]
    },
    {
     "name": "stdout",
     "output_type": "stream",
     "text": [
      " neg 0.8571428571428571\n@piersmorgan @NickKyrgios He could be a such great player if he only had some discipline. neg 1.0\n"
     ]
    },
    {
     "name": "stdout",
     "output_type": "stream",
     "text": [
      "RT @realDonaldTrump: Thank you Marc! https://t.co/JQBUPW2EHJ neg 1.0\n"
     ]
    },
    {
     "name": "stdout",
     "output_type": "stream",
     "text": [
      "RT @realDonaldTrump: Thank you Marc! https://t.co/JQBUPW2EHJ neg 1.0\n"
     ]
    },
    {
     "name": "stdout",
     "output_type": "stream",
     "text": [
      "RT @michcarolinelo: tell him to have a great night &amp; smack that ass as he walks out the door. If you can’t handle a bad bitch don’t date on… neg 1.0\nI actually don't know why #notmyAriel is trending? It seems like everyone who is tweeting this is okay with Ariel b… https://t.co/b9A4SxtoFN"
     ]
    },
    {
     "name": "stdout",
     "output_type": "stream",
     "text": [
      " neg 1.0\nRT @SheroSobti: @A1111_111 @BarunSobtiSays @ShahanaGoswami @avinashtiw85 @MilindDhaimade @Vishhman @RasikaDugal @BarunSobtiPage @baruntamil…"
     ]
    },
    {
     "name": "stdout",
     "output_type": "stream",
     "text": [
      " neg 1.0\nRT @vieintpia777: Planning special project with the great ballet dancer Mr.Florient Cador, coming on the next season in Austria!! I am so h…"
     ]
    },
    {
     "name": "stdout",
     "output_type": "stream",
     "text": [
      " pos 0.5714285714285714\n"
     ]
    },
    {
     "name": "stdout",
     "output_type": "stream",
     "text": [
      "RT @CWilkinsOldham: “There is much to admire in Oldham of 2019, &amp;-if you look for it-a great deal of hope. While admitting that times feel… neg 0.5714285714285714\n"
     ]
    },
    {
     "name": "stdout",
     "output_type": "stream",
     "text": [
      "Great to see 2 #fieldturf hockey gold water based pitches looking so great @phnxh @KNHB_NL @FieldTurf https://t.co/Q0aVW2GiAK pos 1.0\nRT @THiNKin_NG: Fabulous advice that’s easy to understand and follow from @debbiedooodah. She’s with us this morning to help #freelancers w… pos 1.0\n"
     ]
    },
    {
     "name": "stdout",
     "output_type": "stream",
     "text": [
      "haha neg 1.0\nRT @HTAFCBusiness: Great to see one of the new videos from @TOG24Official #HuddersfieldHundred member running on the screens of the @htafct… neg 1.0\n"
     ]
    },
    {
     "name": "stdout",
     "output_type": "stream",
     "text": [
      "RT @StripersMascot: what a great morning to DUMP SOME TEA IN THE HARBOR 🇺🇸 pos 1.0\nRT @callumandcole94: HAPPY 4th OF JULY TWITTER‼️\n\nHope you all have a great day we started ours with a bang😜\n\n🔥Callum’s getting his hole dr…"
     ]
    },
    {
     "name": "stdout",
     "output_type": "stream",
     "text": [
      " pos 1.0\n"
     ]
    },
    {
     "name": "stdout",
     "output_type": "stream",
     "text": [
      "seokjin god actor \nseokjin gorgeous\nseokjin gorgeous face\nseokjin gag gameking \nseokjin silvervoice good great\nseok… https://t.co/YTTzLAtoUD pos 1.0\n“I, therefore, leave off where I began, with hope. While drawing encouragement from ‘the Declaration of Independenc… https://t.co/Ta9ABfqm2l neg 1.0\n"
     ]
    },
    {
     "name": "stdout",
     "output_type": "stream",
     "text": [
      "RT @StewardshipAmer: Thank you, Mr. President. for a stupendous Independence Day tribute to our great nation, and to all who have donned ou… pos 1.0\n"
     ]
    },
    {
     "name": "stdout",
     "output_type": "stream",
     "text": [
      "I see nothing wrong here. You did great man neg 1.0\nRT @yergerljezzz: It’s not just distance, it’s money and other things too. Not all boyfriends are blessed with a car, or a great financial…"
     ]
    },
    {
     "name": "stdout",
     "output_type": "stream",
     "text": [
      " pos 0.7142857142857143\nWe shall miss seeing you there Lisa! Hope all going well for you? And take a look at the annual report- very proud… https://t.co/5u7GFS0KTh"
     ]
    },
    {
     "name": "stdout",
     "output_type": "stream",
     "text": [
      " pos 0.7142857142857143\n"
     ]
    },
    {
     "name": "stdout",
     "output_type": "stream",
     "text": [
      "(..) as the self-inflicted Late Obama Age Collapse shows, a  lot of people these days consider it inconceivable tha… https://t.co/oAOhhSAx0Z pos 1.0\nI am not making great decisions pos 1.0\n"
     ]
    },
    {
     "name": "stdout",
     "output_type": "stream",
     "text": [
      "RT @StewardshipAmer: Thank you, Mr. President. for a stupendous Independence Day tribute to our great nation, and to all who have donned ou… pos 1.0\n"
     ]
    },
    {
     "name": "stdout",
     "output_type": "stream",
     "text": [
      "RT @joedoherty1975: Limited tickets available for this. Great night planned to look back on @FinnHarpsFC's 50 years in the League of Irelan… pos 1.0\n"
     ]
    },
    {
     "name": "stdout",
     "output_type": "stream",
     "text": [
      "@willow1886 @KeenosAFC Cheers John. We had some great times. We won the league title away to Lincoln. Even the first team can't say that 😂😂 pos 1.0\nRT @livyylin: Hope everyone had a great 4th!💙❤️ https://t.co/aVkgNcG0zu"
     ]
    },
    {
     "name": "stdout",
     "output_type": "stream",
     "text": [
      " pos 1.0\n"
     ]
    },
    {
     "name": "stdout",
     "output_type": "stream",
     "text": [
      "RT @CINNAMONJOONIE: namjoon is objectively speaking the most good looking human being on the entire planet, like,,,imagine being the most v… pos 0.5714285714285714\n"
     ]
    },
    {
     "name": "stdout",
     "output_type": "stream",
     "text": [
      "@MBuhari 9yrs ago Libyans were living fine better than NIGERIANS, some people fingered their brain and make sure th… https://t.co/1esgMQ49F8 pos 0.5714285714285714\n"
     ]
    },
    {
     "name": "stdout",
     "output_type": "stream",
     "text": [
      "RT @SayWhenLA: I learned more raw history during that speech than all four years of highschool. No joke. How pathetic is that. Like getting… neg 1.0\n"
     ]
    },
    {
     "name": "stdout",
     "output_type": "stream",
     "text": [
      "You're most welcome, it was great to have you down with us!\n\nGlad to see the lovely Wigan weather held off too.\n\nGo… https://t.co/iWkVFmij73 neg 0.8571428571428571\n"
     ]
    },
    {
     "name": "stdout",
     "output_type": "stream",
     "text": [
      "@BabestationTV @GigiPetite1 A great signing pos 1.0\n@BBCSport He soooooo jealous of great tennis players he a low life ....why he mention about how much money Raffa ha… https://t.co/LJru8y0ZDX"
     ]
    },
    {
     "name": "stdout",
     "output_type": "stream",
     "text": [
      " neg 1.0\nA great story by @MSharif1990 translated by @rahmanitm of khabarnama. pos 1.0\n"
     ]
    },
    {
     "name": "stdout",
     "output_type": "stream",
     "text": [
      "RT @tedcruz: You quote a mighty and historic speech by the great abolitionist Frederick Douglass, but, without context, many modern readers… pos 1.0\n"
     ]
    },
    {
     "name": "stdout",
     "output_type": "stream",
     "text": [
      "RT @dallascampbell: Maybe great swathes of the population have been infected with a Brexit-strain of toxoplasma gondii that increases our r… pos 1.0\n"
     ]
    },
    {
     "name": "stdout",
     "output_type": "stream",
     "text": [
      "Great! I've played Paradise Island 2 for 355 days in a row! #ParadiseIsland2 #GameInsight neg 1.0\n"
     ]
    },
    {
     "name": "stdout",
     "output_type": "stream",
     "text": [
      "RT @TSparrowAAN: A great win for the year 9 rounders team last against Wymondham College in the semi final. A great display of batting and… neg 1.0\n"
     ]
    },
    {
     "name": "stdout",
     "output_type": "stream",
     "text": [
      "Could part of that be  because he understood  and got our very complex club??? Luca and Lamps, we salute you!!!!!! pos 1.0\n"
     ]
    },
    {
     "name": "stdout",
     "output_type": "stream",
     "text": [
      "@rlatshaw677 @YouTube These are great songs, I hope she releases them. Thanks Richard. pos 1.0\n"
     ]
    },
    {
     "name": "stdout",
     "output_type": "stream",
     "text": [
      "RT @SRKUniverse: Gauri Khan Heaps Praises on Shah Rukh Khan, Calls Him a Great Father and Husband 👫 \nhttps://t.co/lpbjbLyXJX https://t.co/d… neg 1.0\n"
     ]
    },
    {
     "name": "stdout",
     "output_type": "stream",
     "text": [
      "@zaichishka Great idea! Will buy a jar for this today. Thank you neg 1.0\n"
     ]
    },
    {
     "name": "stdout",
     "output_type": "stream",
     "text": [
      "RT @KingAJ40: #GOODRiddance #RINOTRASH!\nIt Is Truly A Gift To The USA🇺🇲 That \nOn July 4, 2019 You Announce You Departure!!  We The American… neg 1.0\n@garethrwallace @GeneveAeroport Welcome to Geneva where the cheese is great and the queues are long! Hopefully it’s… https://t.co/uuep72uo5H neg 1.0\n"
     ]
    },
    {
     "name": "stdout",
     "output_type": "stream",
     "text": [
      "If you're reading this, I hope something great happens to you today!!💖.\nGOOD MORNING ✔. — بقيتى متفائلة أخيرا ، مور… https://t.co/1ek8dKAEzY pos 1.0\nRT @WaifusCentral: Good Night!\nHope you're having a great day! 😊 https://t.co/Wghs2dG1tO"
     ]
    },
    {
     "name": "stdout",
     "output_type": "stream",
     "text": [
      " pos 1.0\n@VisitCardiff"
     ]
    },
    {
     "name": "stdout",
     "output_type": "stream",
     "text": [
      " neg 1.0\n"
     ]
    },
    {
     "name": "stdout",
     "output_type": "stream",
     "text": [
      "So @SteveHofstetter is one of my favorite comedians and he handles this with a great joke or two cant wait for an A… https://t.co/V2Qz8vCj6W pos 1.0\n"
     ]
    },
    {
     "name": "stdout",
     "output_type": "stream",
     "text": [
      "RT @SOLOMON_ITEA: Great @SoMeDi_project meeting with partners at @SIVECORomania! #projects #socialmedia \n@ITEA_3 @Taiger_CO @ikangai #JOTin… neg 1.0\n"
     ]
    },
    {
     "name": "stdout",
     "output_type": "stream",
     "text": [
      "#TeamZay Buster ❤️🐾 neg 1.0\n"
     ]
    },
    {
     "name": "stdout",
     "output_type": "stream",
     "text": [
      "RT @Finnbardelnorte: Happy 4th Mr. President. To you and family! 🎉 https://t.co/J3QoLbfl1t neg 1.0\n"
     ]
    },
    {
     "name": "stdout",
     "output_type": "stream",
     "text": [
      "RT @michcarolinelo: tell him to have a great night &amp; smack that ass as he walks out the door. If you can’t handle a bad bitch don’t date on… neg 1.0\n"
     ]
    },
    {
     "name": "stdout",
     "output_type": "stream",
     "text": [
      "Fantastic food ⁦@keralankaravan⁩ last night ⁦@CellarDevil⁩ - great to support two local businesses &amp; welcome Mrs G… https://t.co/Oy0I9kKz6k neg 0.5714285714285714\nSomething great pos 1.0\n"
     ]
    },
    {
     "name": "stdout",
     "output_type": "stream",
     "text": [
      "At this point Cortés’s knowledge of Castilian law came into its own. That great medieval compilation, the Siete Par… https://t.co/qS7Ijbdjur pos 1.0\n. @ModEviPol @BudgeGiles neg 1.0\n"
     ]
    },
    {
     "name": "stdout",
     "output_type": "stream",
     "text": [
      "Great news for the West Midlands and the country confirmed this morning from JLR. neg 1.0\n"
     ]
    },
    {
     "name": "stdout",
     "output_type": "stream",
     "text": [
      "@efjspencer I was hoping for mass retro futurism to dominate vehicle style in our boring dystopia. Make Homer's Persephone great again. neg 1.0\n"
     ]
    },
    {
     "name": "stdout",
     "output_type": "stream",
     "text": [
      "Thanks Andrea for your wonderful support 🙏❤️⚽️ pos 1.0\nRT @ThirdBnMissinf: https://t.co/zXr8mwTyDW.  #tampabayfl #cats #deathrow neg 1.0\n"
     ]
    },
    {
     "name": "stdout",
     "output_type": "stream",
     "text": [
      "RT @yergerljezzz: It’s not just distance, it’s money and other things too. Not all boyfriends are blessed with a car, or a great financial… pos 0.7142857142857143\n"
     ]
    },
    {
     "name": "stdout",
     "output_type": "stream",
     "text": [
      "RT @Samanthaprabhu2: 🥰🥰 https://t.co/LZhi0CEN06 neg 1.0\n"
     ]
    },
    {
     "name": "stdout",
     "output_type": "stream",
     "text": [
      "RT @Piero71018271: @BellaBelle1129 Good morning Keishe☕☕and thank you for these beautiful sunflowers! \nI'll send you a 🌻 too!😀👇Have a Great… pos 1.0\n"
     ]
    },
    {
     "name": "stdout",
     "output_type": "stream",
     "text": [
      "RT @ColonelEscargot: Please help share as much as you can. Let’s change the narrative and get the positive messages out there. As @MartinCh… pos 1.0\n"
     ]
    },
    {
     "name": "stdout",
     "output_type": "stream",
     "text": [
      "i love you @Stranger_Things for constantly giving me those goosebumps moments and great entertainment 💛 https://t.co/r3DcRSZF3g pos 1.0\n"
     ]
    },
    {
     "name": "stdout",
     "output_type": "stream",
     "text": [
      "RT @realDonaldTrump: A great crowd of tremendous Patriots this evening, all the way back to the Washington Monument! #SaluteToAmerica🇺🇸 htt… pos 1.0\n"
     ]
    },
    {
     "name": "stdout",
     "output_type": "stream",
     "text": [
      "RT @BarackObama: Happy Fourth of July, everybody! This is always a great day in the Obama family: a chance to celebrate America—and Malia’s… pos 1.0\n"
     ]
    },
    {
     "name": "stdout",
     "output_type": "stream",
     "text": [
      "RT @corkcitycouncil: 🌉Did you join us for the official launch of the St Patrick's Bridge Rehabilitation?!\n\nCheck out this great time-lapse… pos 1.0\n@shrewsmorris @TSCarpetClean Morning! Have a great one :) https://t.co/GnB42OMBAE"
     ]
    },
    {
     "name": "stdout",
     "output_type": "stream",
     "text": [
      " pos 1.0\nRT @Filler_Username: And lastly, not a fact but just some guidance, be fucking respectful. Don't spam anyone with your natdex arguments, an…"
     ]
    },
    {
     "name": "stdout",
     "output_type": "stream",
     "text": [
      " pos 1.0\n"
     ]
    },
    {
     "name": "stdout",
     "output_type": "stream",
     "text": [
      "RT @DrFrancesRyan: .@WaterstonesNG made me this beautiful bookshelf. There’s so many great options for customers! https://t.co/ImEsjW3fhz pos 1.0\n"
     ]
    },
    {
     "name": "stdout",
     "output_type": "stream",
     "text": [
      "@BetteMidler it was a great day so what died? pos 1.0\n@MalcomXxtacy @MasekoValencia @JustThabile @fiso_sir @sindivanzyl How are we going to make the world a better place… https://t.co/3jDwCeihby"
     ]
    },
    {
     "name": "stdout",
     "output_type": "stream",
     "text": [
      " neg 1.0\nRT @asn9009: Great! No real Hindu is fighting as you are. https://t.co/6SRd0IvzIH pos 0.5714285714285714\n"
     ]
    },
    {
     "name": "stdout",
     "output_type": "stream",
     "text": [
      "RT @PaulRieckhoff: This is a great line: “I don’t think he understands, this is America’s birthday, not his birthday.” -⁦@KamalaHarris⁩ htt… pos 1.0\nRT @FLOTUS: A beautiful tribute to our Nation &amp; the American spirit tonight. We honor &amp; celebrate our cherished history &amp; all those who ser… pos 1.0\n"
     ]
    },
    {
     "name": "stdout",
     "output_type": "stream",
     "text": [
      "Very interesting project, the team has many plans, this company is definitely waiting for great success.\n\nTelegram:… https://t.co/AD8Q1rvoCS neg 0.7142857142857143\nGreat article and good for thought @MarkCDavies1 neg 0.5714285714285714\n"
     ]
    },
    {
     "name": "stdout",
     "output_type": "stream",
     "text": [
      "@DraytonManor Thomas land it’s great that littles ones get so much enjoyment x pos 1.0\nGreat app @Dingtone, call for free. #freecall #freetext https://t.co/uuVCLgu9V2 neg 1.0\n"
     ]
    },
    {
     "name": "stdout",
     "output_type": "stream",
     "text": [
      "RT @michcarolinelo: tell him to have a great night &amp; smack that ass as he walks out the door. If you can’t handle a bad bitch don’t date on… neg 1.0\n@ggatenby Increased labour + $/ha might be as great? All depends on your circumstances"
     ]
    },
    {
     "name": "stdout",
     "output_type": "stream",
     "text": [
      " pos 1.0\n"
     ]
    },
    {
     "name": "stdout",
     "output_type": "stream",
     "text": [
      "RT @LASTEXITshirts: On this day in 1975, Hooper, Brody and Quint set sail aboard the Orca in search of the rogue Great White.\n- Jamie https… neg 1.0\nGreat Progressive looking Budget"
     ]
    },
    {
     "name": "stdout",
     "output_type": "stream",
     "text": [
      " neg 1.0\n@luogl Have a great stay and let our team know if you need anything!"
     ]
    },
    {
     "name": "stdout",
     "output_type": "stream",
     "text": [
      " pos 0.8571428571428571\n@tungyyyy @bail3yy @georgieparker I get no entertainment out of RN taking 30sec to serve every ball,great of the ga… https://t.co/tSKjGjoUma pos 1.0\n"
     ]
    },
    {
     "name": "stdout",
     "output_type": "stream",
     "text": [
      "A great day in store with not one, but two fabulous fundraisers... first up a catch up with @alastairmciver and the… https://t.co/1FtY6GrqOw pos 1.0\n"
     ]
    },
    {
     "name": "stdout",
     "output_type": "stream",
     "text": [
      "Politics without politics:\nTo\nThe Honourable FM of India,\n-Upto ₹5 lakhs(Taxable income)no tax\n-Tax concession for… https://t.co/XJSzjY3q1y neg 1.0\n"
     ]
    },
    {
     "name": "stdout",
     "output_type": "stream",
     "text": [
      "RT @VP: It was wonderful to see our military celebrating #IndependenceDay at the Salute to America. Thank you to our military and their fam… pos 1.0\nRT @TheChefFacts: Try all 7 of these great chicken wing recipes! ©Tasty\nhttps://t.co/x5WiTn2ifc pos 0.7142857142857143\n"
     ]
    },
    {
     "name": "stdout",
     "output_type": "stream",
     "text": [
      "Great watching TdF launch in Brussels yesterday a lovely farewell to Belgium after nearly 4 yrs here. Special thank… https://t.co/10kku612yH neg 0.7142857142857143\n"
     ]
    },
    {
     "name": "stdout",
     "output_type": "stream",
     "text": [
      "RT @recshitt: Great Days but its Twitter usernames https://t.co/VKcUl6WYoX neg 1.0\nRT @Johnndamii: Just because a person smiles all the time doesn't mean their life is perfect. That smile is a symbol of hope and strength.… pos 1.0\n"
     ]
    },
    {
     "name": "stdout",
     "output_type": "stream",
     "text": [
      "Great shithouse behaviour neg 1.0\nRT @TarekFatah: Whipping up the fury of the Iranian masses against Saudi Arabia, the Jews and the great Satan. https://t.co/YB889J4cqx pos 1.0\n"
     ]
    },
    {
     "name": "stdout",
     "output_type": "stream",
     "text": [
      "RT @YOLOOOOO4eva: Boasting speech is a mark of weakness.Those who do great things\nare usually silent.\n\nFUMIYAM 2gether1Goal pos 1.0\n"
     ]
    },
    {
     "name": "stdout",
     "output_type": "stream",
     "text": [
      "@carl_cameron_ @Bert_Hancock @sharenehourd @sleafordmods That's great Carl, my wife is very conservative with her m… https://t.co/Y5pJO5s8dQ pos 1.0\n"
     ]
    },
    {
     "name": "stdout",
     "output_type": "stream",
     "text": [
      "@lorenbella_ @ianisughlee @emilytce wow! great idea, thanks!!!! https://t.co/UdwbaHeCNb pos 1.0\n"
     ]
    },
    {
     "name": "stdout",
     "output_type": "stream",
     "text": [
      "RT @FLOTUS: A beautiful tribute to our Nation &amp; the American spirit tonight. We honor &amp; celebrate our cherished history &amp; all those who ser… pos 1.0\nToyota GB?s Carla Henson, Jess Portman and Emma Johnson have all been recognised in Autocar?s Great British Women i… https://t.co/ilC4rwjGWU"
     ]
    },
    {
     "name": "stdout",
     "output_type": "stream",
     "text": [
      " pos 1.0\n"
     ]
    },
    {
     "name": "stdout",
     "output_type": "stream",
     "text": [
      "listen maya hawke is great but would it have killed them not to cast someone who’s parents are hollywood elite? the… https://t.co/aXPOSVicSA pos 1.0\n"
     ]
    },
    {
     "name": "stdout",
     "output_type": "stream",
     "text": [
      "RT @HeatherChilders: Wow! What a tribute! Truly a ‘Salute to America’! Praise for our military and veterans and a great lesson in history!… pos 0.5714285714285714\n"
     ]
    },
    {
     "name": "stdout",
     "output_type": "stream",
     "text": [
      "RT @5Forty3: &gt; 5 Trillion $ economy \n&gt; Abolishing Rail Budget \n&gt; Repealing Planning Commission \n&gt; Doubling farm income \n&gt; One nation 1 Tax… neg 1.0\n"
     ]
    },
    {
     "name": "stdout",
     "output_type": "stream",
     "text": [
      "RT @DominicPiper1: Death is the New Black. Dominic Piper.\n\"Terrific. Great. I enjoyed this book so much.\"\nhttps://t.co/Xr8ygKCiHA\n#London\n#… pos 1.0\nRT @dbrownAnalyst: @akindiyarasheed @BabsOgundimu Yea, he did his research, has all my details. Excellent data mining. Would have been a gr… neg 1.0\n"
     ]
    },
    {
     "name": "stdout",
     "output_type": "stream",
     "text": [
      "As most of my phd revolves around calibration of models, this might come in handy 😀 neg 0.5714285714285714\n"
     ]
    },
    {
     "name": "stdout",
     "output_type": "stream",
     "text": [
      "RT @LocalTexts: You are loved.\nYou are wonderfully made.\nYou are beautiful.\nYou have purpose.\nYou are a masterpiece.\nGod has a great plan f… pos 1.0\n"
     ]
    },
    {
     "name": "stdout",
     "output_type": "stream",
     "text": [
      "RT @casxvii: Yes bitch I’m right here. I look great in blue. https://t.co/ju9PTCQ0rn pos 0.8571428571428571\n"
     ]
    },
    {
     "name": "stdout",
     "output_type": "stream",
     "text": [
      "RT @realDonaldTrump: Thank you Marc! https://t.co/JQBUPW2EHJ neg 1.0\n"
     ]
    },
    {
     "ename": "KeyboardInterrupt",
     "evalue": "",
     "traceback": [
      "\u001b[1;31m---------------------------------------------------------------------------\u001b[0m",
      "\u001b[1;31mKeyboardInterrupt\u001b[0m                         Traceback (most recent call last)",
      "\u001b[1;32m<ipython-input-16-81ac39abbec1>\u001b[0m in \u001b[0;36m<module>\u001b[1;34m\u001b[0m\n\u001b[0;32m      4\u001b[0m \u001b[1;33m\u001b[0m\u001b[0m\n\u001b[0;32m      5\u001b[0m \u001b[0mtwitterStream\u001b[0m \u001b[1;33m=\u001b[0m \u001b[0mStream\u001b[0m\u001b[1;33m(\u001b[0m\u001b[0mauth\u001b[0m\u001b[1;33m,\u001b[0m \u001b[0mlistener\u001b[0m\u001b[1;33m(\u001b[0m\u001b[1;33m)\u001b[0m\u001b[1;33m)\u001b[0m\u001b[1;33m\u001b[0m\u001b[1;33m\u001b[0m\u001b[0m\n\u001b[1;32m----> 6\u001b[1;33m \u001b[0mtwitterStream\u001b[0m\u001b[1;33m.\u001b[0m\u001b[0mfilter\u001b[0m\u001b[1;33m(\u001b[0m\u001b[0mtrack\u001b[0m\u001b[1;33m=\u001b[0m\u001b[1;33m[\u001b[0m\u001b[1;34m\"great\"\u001b[0m\u001b[1;33m]\u001b[0m\u001b[1;33m)\u001b[0m\u001b[1;33m\u001b[0m\u001b[1;33m\u001b[0m\u001b[0m\n\u001b[0m",
      "\u001b[1;32m~\\Miniconda3\\envs\\condaenv\\lib\\site-packages\\tweepy\\streaming.py\u001b[0m in \u001b[0;36mfilter\u001b[1;34m(self, follow, track, is_async, locations, stall_warnings, languages, encoding, filter_level)\u001b[0m\n\u001b[0;32m    451\u001b[0m             \u001b[0mself\u001b[0m\u001b[1;33m.\u001b[0m\u001b[0mbody\u001b[0m\u001b[1;33m[\u001b[0m\u001b[1;34m'filter_level'\u001b[0m\u001b[1;33m]\u001b[0m \u001b[1;33m=\u001b[0m \u001b[0mfilter_level\u001b[0m\u001b[1;33m.\u001b[0m\u001b[0mencode\u001b[0m\u001b[1;33m(\u001b[0m\u001b[0mencoding\u001b[0m\u001b[1;33m)\u001b[0m\u001b[1;33m\u001b[0m\u001b[1;33m\u001b[0m\u001b[0m\n\u001b[0;32m    452\u001b[0m         \u001b[0mself\u001b[0m\u001b[1;33m.\u001b[0m\u001b[0msession\u001b[0m\u001b[1;33m.\u001b[0m\u001b[0mparams\u001b[0m \u001b[1;33m=\u001b[0m \u001b[1;33m{\u001b[0m\u001b[1;34m'delimited'\u001b[0m\u001b[1;33m:\u001b[0m \u001b[1;34m'length'\u001b[0m\u001b[1;33m}\u001b[0m\u001b[1;33m\u001b[0m\u001b[1;33m\u001b[0m\u001b[0m\n\u001b[1;32m--> 453\u001b[1;33m         \u001b[0mself\u001b[0m\u001b[1;33m.\u001b[0m\u001b[0m_start\u001b[0m\u001b[1;33m(\u001b[0m\u001b[0mis_async\u001b[0m\u001b[1;33m)\u001b[0m\u001b[1;33m\u001b[0m\u001b[1;33m\u001b[0m\u001b[0m\n\u001b[0m\u001b[0;32m    454\u001b[0m \u001b[1;33m\u001b[0m\u001b[0m\n\u001b[0;32m    455\u001b[0m     def sitestream(self, follow, stall_warnings=False,\n",
      "\u001b[1;32m~\\Miniconda3\\envs\\condaenv\\lib\\site-packages\\tweepy\\streaming.py\u001b[0m in \u001b[0;36m_start\u001b[1;34m(self, is_async)\u001b[0m\n\u001b[0;32m    366\u001b[0m             \u001b[0mself\u001b[0m\u001b[1;33m.\u001b[0m\u001b[0m_thread\u001b[0m\u001b[1;33m.\u001b[0m\u001b[0mstart\u001b[0m\u001b[1;33m(\u001b[0m\u001b[1;33m)\u001b[0m\u001b[1;33m\u001b[0m\u001b[1;33m\u001b[0m\u001b[0m\n\u001b[0;32m    367\u001b[0m         \u001b[1;32melse\u001b[0m\u001b[1;33m:\u001b[0m\u001b[1;33m\u001b[0m\u001b[1;33m\u001b[0m\u001b[0m\n\u001b[1;32m--> 368\u001b[1;33m             \u001b[0mself\u001b[0m\u001b[1;33m.\u001b[0m\u001b[0m_run\u001b[0m\u001b[1;33m(\u001b[0m\u001b[1;33m)\u001b[0m\u001b[1;33m\u001b[0m\u001b[1;33m\u001b[0m\u001b[0m\n\u001b[0m\u001b[0;32m    369\u001b[0m \u001b[1;33m\u001b[0m\u001b[0m\n\u001b[0;32m    370\u001b[0m     \u001b[1;32mdef\u001b[0m \u001b[0mon_closed\u001b[0m\u001b[1;33m(\u001b[0m\u001b[0mself\u001b[0m\u001b[1;33m,\u001b[0m \u001b[0mresp\u001b[0m\u001b[1;33m)\u001b[0m\u001b[1;33m:\u001b[0m\u001b[1;33m\u001b[0m\u001b[1;33m\u001b[0m\u001b[0m\n",
      "\u001b[1;32m~\\Miniconda3\\envs\\condaenv\\lib\\site-packages\\tweepy\\streaming.py\u001b[0m in \u001b[0;36m_run\u001b[1;34m(self)\u001b[0m\n\u001b[0;32m    267\u001b[0m                     \u001b[0mself\u001b[0m\u001b[1;33m.\u001b[0m\u001b[0msnooze_time\u001b[0m \u001b[1;33m=\u001b[0m \u001b[0mself\u001b[0m\u001b[1;33m.\u001b[0m\u001b[0msnooze_time_step\u001b[0m\u001b[1;33m\u001b[0m\u001b[1;33m\u001b[0m\u001b[0m\n\u001b[0;32m    268\u001b[0m                     \u001b[0mself\u001b[0m\u001b[1;33m.\u001b[0m\u001b[0mlistener\u001b[0m\u001b[1;33m.\u001b[0m\u001b[0mon_connect\u001b[0m\u001b[1;33m(\u001b[0m\u001b[1;33m)\u001b[0m\u001b[1;33m\u001b[0m\u001b[1;33m\u001b[0m\u001b[0m\n\u001b[1;32m--> 269\u001b[1;33m                     \u001b[0mself\u001b[0m\u001b[1;33m.\u001b[0m\u001b[0m_read_loop\u001b[0m\u001b[1;33m(\u001b[0m\u001b[0mresp\u001b[0m\u001b[1;33m)\u001b[0m\u001b[1;33m\u001b[0m\u001b[1;33m\u001b[0m\u001b[0m\n\u001b[0m\u001b[0;32m    270\u001b[0m             \u001b[1;32mexcept\u001b[0m \u001b[1;33m(\u001b[0m\u001b[0mTimeout\u001b[0m\u001b[1;33m,\u001b[0m \u001b[0mssl\u001b[0m\u001b[1;33m.\u001b[0m\u001b[0mSSLError\u001b[0m\u001b[1;33m)\u001b[0m \u001b[1;32mas\u001b[0m \u001b[0mexc\u001b[0m\u001b[1;33m:\u001b[0m\u001b[1;33m\u001b[0m\u001b[1;33m\u001b[0m\u001b[0m\n\u001b[0;32m    271\u001b[0m                 \u001b[1;31m# This is still necessary, as a SSLError can actually be\u001b[0m\u001b[1;33m\u001b[0m\u001b[1;33m\u001b[0m\u001b[1;33m\u001b[0m\u001b[0m\n",
      "\u001b[1;32m~\\Miniconda3\\envs\\condaenv\\lib\\site-packages\\tweepy\\streaming.py\u001b[0m in \u001b[0;36m_read_loop\u001b[1;34m(self, resp)\u001b[0m\n\u001b[0;32m    329\u001b[0m             \u001b[0mnext_status_obj\u001b[0m \u001b[1;33m=\u001b[0m \u001b[0mbuf\u001b[0m\u001b[1;33m.\u001b[0m\u001b[0mread_len\u001b[0m\u001b[1;33m(\u001b[0m\u001b[0mlength\u001b[0m\u001b[1;33m)\u001b[0m\u001b[1;33m\u001b[0m\u001b[1;33m\u001b[0m\u001b[0m\n\u001b[0;32m    330\u001b[0m             \u001b[1;32mif\u001b[0m \u001b[0mself\u001b[0m\u001b[1;33m.\u001b[0m\u001b[0mrunning\u001b[0m \u001b[1;32mand\u001b[0m \u001b[0mnext_status_obj\u001b[0m\u001b[1;33m:\u001b[0m\u001b[1;33m\u001b[0m\u001b[1;33m\u001b[0m\u001b[0m\n\u001b[1;32m--> 331\u001b[1;33m                 \u001b[0mself\u001b[0m\u001b[1;33m.\u001b[0m\u001b[0m_data\u001b[0m\u001b[1;33m(\u001b[0m\u001b[0mnext_status_obj\u001b[0m\u001b[1;33m)\u001b[0m\u001b[1;33m\u001b[0m\u001b[1;33m\u001b[0m\u001b[0m\n\u001b[0m\u001b[0;32m    332\u001b[0m \u001b[1;33m\u001b[0m\u001b[0m\n\u001b[0;32m    333\u001b[0m             \u001b[1;31m# # Note: keep-alive newlines might be inserted before each length value.\u001b[0m\u001b[1;33m\u001b[0m\u001b[1;33m\u001b[0m\u001b[1;33m\u001b[0m\u001b[0m\n",
      "\u001b[1;32m~\\Miniconda3\\envs\\condaenv\\lib\\site-packages\\tweepy\\streaming.py\u001b[0m in \u001b[0;36m_data\u001b[1;34m(self, data)\u001b[0m\n\u001b[0;32m    301\u001b[0m \u001b[1;33m\u001b[0m\u001b[0m\n\u001b[0;32m    302\u001b[0m     \u001b[1;32mdef\u001b[0m \u001b[0m_data\u001b[0m\u001b[1;33m(\u001b[0m\u001b[0mself\u001b[0m\u001b[1;33m,\u001b[0m \u001b[0mdata\u001b[0m\u001b[1;33m)\u001b[0m\u001b[1;33m:\u001b[0m\u001b[1;33m\u001b[0m\u001b[1;33m\u001b[0m\u001b[0m\n\u001b[1;32m--> 303\u001b[1;33m         \u001b[1;32mif\u001b[0m \u001b[0mself\u001b[0m\u001b[1;33m.\u001b[0m\u001b[0mlistener\u001b[0m\u001b[1;33m.\u001b[0m\u001b[0mon_data\u001b[0m\u001b[1;33m(\u001b[0m\u001b[0mdata\u001b[0m\u001b[1;33m)\u001b[0m \u001b[1;32mis\u001b[0m \u001b[1;32mFalse\u001b[0m\u001b[1;33m:\u001b[0m\u001b[1;33m\u001b[0m\u001b[1;33m\u001b[0m\u001b[0m\n\u001b[0m\u001b[0;32m    304\u001b[0m             \u001b[0mself\u001b[0m\u001b[1;33m.\u001b[0m\u001b[0mrunning\u001b[0m \u001b[1;33m=\u001b[0m \u001b[1;32mFalse\u001b[0m\u001b[1;33m\u001b[0m\u001b[1;33m\u001b[0m\u001b[0m\n\u001b[0;32m    305\u001b[0m \u001b[1;33m\u001b[0m\u001b[0m\n",
      "\u001b[1;32m<ipython-input-15-57bcb878bdde>\u001b[0m in \u001b[0;36mon_data\u001b[1;34m(self, data)\u001b[0m\n\u001b[0;32m     15\u001b[0m \u001b[1;33m\u001b[0m\u001b[0m\n\u001b[0;32m     16\u001b[0m         \u001b[0mtweet\u001b[0m \u001b[1;33m=\u001b[0m \u001b[0mall_data\u001b[0m\u001b[1;33m[\u001b[0m\u001b[1;34m\"text\"\u001b[0m\u001b[1;33m]\u001b[0m\u001b[1;33m\u001b[0m\u001b[1;33m\u001b[0m\u001b[0m\n\u001b[1;32m---> 17\u001b[1;33m         \u001b[0msentiment_value\u001b[0m\u001b[1;33m,\u001b[0m\u001b[0mconfidence\u001b[0m\u001b[1;33m=\u001b[0m\u001b[0ms\u001b[0m\u001b[1;33m.\u001b[0m\u001b[0msentiment\u001b[0m\u001b[1;33m(\u001b[0m\u001b[0mtweet\u001b[0m\u001b[1;33m)\u001b[0m\u001b[1;33m\u001b[0m\u001b[1;33m\u001b[0m\u001b[0m\n\u001b[0m\u001b[0;32m     18\u001b[0m         \u001b[0mprint\u001b[0m\u001b[1;33m(\u001b[0m\u001b[0mtweet\u001b[0m\u001b[1;33m,\u001b[0m\u001b[0msentiment_value\u001b[0m\u001b[1;33m,\u001b[0m\u001b[0mconfidence\u001b[0m\u001b[1;33m)\u001b[0m\u001b[1;33m\u001b[0m\u001b[1;33m\u001b[0m\u001b[0m\n\u001b[0;32m     19\u001b[0m \u001b[1;33m\u001b[0m\u001b[0m\n",
      "\u001b[1;32m~\\Desktop\\Anuj\\NLP Projects\\sent_analysis.py\u001b[0m in \u001b[0;36msentiment\u001b[1;34m(text)\u001b[0m\n\u001b[0;32m    168\u001b[0m \u001b[1;32mdef\u001b[0m \u001b[0msentiment\u001b[0m\u001b[1;33m(\u001b[0m\u001b[0mtext\u001b[0m\u001b[1;33m)\u001b[0m\u001b[1;33m:\u001b[0m\u001b[1;33m\u001b[0m\u001b[1;33m\u001b[0m\u001b[0m\n\u001b[0;32m    169\u001b[0m     \u001b[0mfeats\u001b[0m \u001b[1;33m=\u001b[0m \u001b[0mfind_features\u001b[0m\u001b[1;33m(\u001b[0m\u001b[0mtext\u001b[0m\u001b[1;33m)\u001b[0m\u001b[1;33m\u001b[0m\u001b[1;33m\u001b[0m\u001b[0m\n\u001b[1;32m--> 170\u001b[1;33m     \u001b[1;32mreturn\u001b[0m \u001b[0mvoted_classifier\u001b[0m\u001b[1;33m.\u001b[0m\u001b[0mclassify\u001b[0m\u001b[1;33m(\u001b[0m\u001b[0mfeats\u001b[0m\u001b[1;33m)\u001b[0m\u001b[1;33m,\u001b[0m\u001b[0mvoted_classifier\u001b[0m\u001b[1;33m.\u001b[0m\u001b[0mconfidence\u001b[0m\u001b[1;33m(\u001b[0m\u001b[0mfeats\u001b[0m\u001b[1;33m)\u001b[0m\u001b[1;33m\u001b[0m\u001b[1;33m\u001b[0m\u001b[0m\n\u001b[0m",
      "\u001b[1;32m~\\Desktop\\Anuj\\NLP Projects\\sent_analysis.py\u001b[0m in \u001b[0;36mconfidence\u001b[1;34m(self, features)\u001b[0m\n\u001b[0;32m     27\u001b[0m         \u001b[0mvotes\u001b[0m\u001b[1;33m=\u001b[0m\u001b[1;33m[\u001b[0m\u001b[1;33m]\u001b[0m\u001b[1;33m\u001b[0m\u001b[1;33m\u001b[0m\u001b[0m\n\u001b[0;32m     28\u001b[0m         \u001b[1;32mfor\u001b[0m \u001b[0mc\u001b[0m \u001b[1;32min\u001b[0m \u001b[0mself\u001b[0m\u001b[1;33m.\u001b[0m\u001b[0m_classifers\u001b[0m\u001b[1;33m:\u001b[0m\u001b[1;33m\u001b[0m\u001b[1;33m\u001b[0m\u001b[0m\n\u001b[1;32m---> 29\u001b[1;33m             \u001b[0mv\u001b[0m\u001b[1;33m=\u001b[0m\u001b[0mc\u001b[0m\u001b[1;33m.\u001b[0m\u001b[0mclassify\u001b[0m\u001b[1;33m(\u001b[0m\u001b[0mfeatures\u001b[0m\u001b[1;33m)\u001b[0m\u001b[1;33m\u001b[0m\u001b[1;33m\u001b[0m\u001b[0m\n\u001b[0m\u001b[0;32m     30\u001b[0m             \u001b[0mvotes\u001b[0m\u001b[1;33m.\u001b[0m\u001b[0mappend\u001b[0m\u001b[1;33m(\u001b[0m\u001b[0mv\u001b[0m\u001b[1;33m)\u001b[0m\u001b[1;33m\u001b[0m\u001b[1;33m\u001b[0m\u001b[0m\n\u001b[0;32m     31\u001b[0m         \u001b[0mchoice_votes\u001b[0m \u001b[1;33m=\u001b[0m \u001b[0mvotes\u001b[0m\u001b[1;33m.\u001b[0m\u001b[0mcount\u001b[0m\u001b[1;33m(\u001b[0m\u001b[0mmode\u001b[0m\u001b[1;33m(\u001b[0m\u001b[0mvotes\u001b[0m\u001b[1;33m)\u001b[0m\u001b[1;33m)\u001b[0m\u001b[1;33m\u001b[0m\u001b[1;33m\u001b[0m\u001b[0m\n",
      "\u001b[1;32m~\\Miniconda3\\envs\\condaenv\\lib\\site-packages\\nltk\\classify\\naivebayes.py\u001b[0m in \u001b[0;36mclassify\u001b[1;34m(self, featureset)\u001b[0m\n\u001b[0;32m     88\u001b[0m \u001b[1;33m\u001b[0m\u001b[0m\n\u001b[0;32m     89\u001b[0m     \u001b[1;32mdef\u001b[0m \u001b[0mclassify\u001b[0m\u001b[1;33m(\u001b[0m\u001b[0mself\u001b[0m\u001b[1;33m,\u001b[0m \u001b[0mfeatureset\u001b[0m\u001b[1;33m)\u001b[0m\u001b[1;33m:\u001b[0m\u001b[1;33m\u001b[0m\u001b[1;33m\u001b[0m\u001b[0m\n\u001b[1;32m---> 90\u001b[1;33m         \u001b[1;32mreturn\u001b[0m \u001b[0mself\u001b[0m\u001b[1;33m.\u001b[0m\u001b[0mprob_classify\u001b[0m\u001b[1;33m(\u001b[0m\u001b[0mfeatureset\u001b[0m\u001b[1;33m)\u001b[0m\u001b[1;33m.\u001b[0m\u001b[0mmax\u001b[0m\u001b[1;33m(\u001b[0m\u001b[1;33m)\u001b[0m\u001b[1;33m\u001b[0m\u001b[1;33m\u001b[0m\u001b[0m\n\u001b[0m\u001b[0;32m     91\u001b[0m \u001b[1;33m\u001b[0m\u001b[0m\n\u001b[0;32m     92\u001b[0m     \u001b[1;32mdef\u001b[0m \u001b[0mprob_classify\u001b[0m\u001b[1;33m(\u001b[0m\u001b[0mself\u001b[0m\u001b[1;33m,\u001b[0m \u001b[0mfeatureset\u001b[0m\u001b[1;33m)\u001b[0m\u001b[1;33m:\u001b[0m\u001b[1;33m\u001b[0m\u001b[1;33m\u001b[0m\u001b[0m\n",
      "\u001b[1;32m~\\Miniconda3\\envs\\condaenv\\lib\\site-packages\\nltk\\classify\\naivebayes.py\u001b[0m in \u001b[0;36mprob_classify\u001b[1;34m(self, featureset)\u001b[0m\n\u001b[0;32m    114\u001b[0m                 \u001b[1;32mif\u001b[0m \u001b[1;33m(\u001b[0m\u001b[0mlabel\u001b[0m\u001b[1;33m,\u001b[0m \u001b[0mfname\u001b[0m\u001b[1;33m)\u001b[0m \u001b[1;32min\u001b[0m \u001b[0mself\u001b[0m\u001b[1;33m.\u001b[0m\u001b[0m_feature_probdist\u001b[0m\u001b[1;33m:\u001b[0m\u001b[1;33m\u001b[0m\u001b[1;33m\u001b[0m\u001b[0m\n\u001b[0;32m    115\u001b[0m                     \u001b[0mfeature_probs\u001b[0m \u001b[1;33m=\u001b[0m \u001b[0mself\u001b[0m\u001b[1;33m.\u001b[0m\u001b[0m_feature_probdist\u001b[0m\u001b[1;33m[\u001b[0m\u001b[0mlabel\u001b[0m\u001b[1;33m,\u001b[0m \u001b[0mfname\u001b[0m\u001b[1;33m]\u001b[0m\u001b[1;33m\u001b[0m\u001b[1;33m\u001b[0m\u001b[0m\n\u001b[1;32m--> 116\u001b[1;33m                     \u001b[0mlogprob\u001b[0m\u001b[1;33m[\u001b[0m\u001b[0mlabel\u001b[0m\u001b[1;33m]\u001b[0m \u001b[1;33m+=\u001b[0m \u001b[0mfeature_probs\u001b[0m\u001b[1;33m.\u001b[0m\u001b[0mlogprob\u001b[0m\u001b[1;33m(\u001b[0m\u001b[0mfval\u001b[0m\u001b[1;33m)\u001b[0m\u001b[1;33m\u001b[0m\u001b[1;33m\u001b[0m\u001b[0m\n\u001b[0m\u001b[0;32m    117\u001b[0m                 \u001b[1;32melse\u001b[0m\u001b[1;33m:\u001b[0m\u001b[1;33m\u001b[0m\u001b[1;33m\u001b[0m\u001b[0m\n\u001b[0;32m    118\u001b[0m                     \u001b[1;31m# nb: This case will never come up if the\u001b[0m\u001b[1;33m\u001b[0m\u001b[1;33m\u001b[0m\u001b[1;33m\u001b[0m\u001b[0m\n",
      "\u001b[1;32m~\\Miniconda3\\envs\\condaenv\\lib\\site-packages\\nltk\\probability.py\u001b[0m in \u001b[0;36mlogprob\u001b[1;34m(self, sample)\u001b[0m\n\u001b[0;32m    495\u001b[0m         \"\"\"\n\u001b[0;32m    496\u001b[0m         \u001b[1;31m# Default definition, in terms of prob()\u001b[0m\u001b[1;33m\u001b[0m\u001b[1;33m\u001b[0m\u001b[1;33m\u001b[0m\u001b[0m\n\u001b[1;32m--> 497\u001b[1;33m         \u001b[0mp\u001b[0m \u001b[1;33m=\u001b[0m \u001b[0mself\u001b[0m\u001b[1;33m.\u001b[0m\u001b[0mprob\u001b[0m\u001b[1;33m(\u001b[0m\u001b[0msample\u001b[0m\u001b[1;33m)\u001b[0m\u001b[1;33m\u001b[0m\u001b[1;33m\u001b[0m\u001b[0m\n\u001b[0m\u001b[0;32m    498\u001b[0m         \u001b[1;32mreturn\u001b[0m \u001b[0mmath\u001b[0m\u001b[1;33m.\u001b[0m\u001b[0mlog\u001b[0m\u001b[1;33m(\u001b[0m\u001b[0mp\u001b[0m\u001b[1;33m,\u001b[0m \u001b[1;36m2\u001b[0m\u001b[1;33m)\u001b[0m \u001b[1;32mif\u001b[0m \u001b[0mp\u001b[0m \u001b[1;33m!=\u001b[0m \u001b[1;36m0\u001b[0m \u001b[1;32melse\u001b[0m \u001b[0m_NINF\u001b[0m\u001b[1;33m\u001b[0m\u001b[1;33m\u001b[0m\u001b[0m\n\u001b[0;32m    499\u001b[0m \u001b[1;33m\u001b[0m\u001b[0m\n",
      "\u001b[1;32m~\\Miniconda3\\envs\\condaenv\\lib\\site-packages\\nltk\\probability.py\u001b[0m in \u001b[0;36mprob\u001b[1;34m(self, sample)\u001b[0m\n\u001b[0;32m    845\u001b[0m         \u001b[1;32mreturn\u001b[0m \u001b[0mself\u001b[0m\u001b[1;33m.\u001b[0m\u001b[0m_freqdist\u001b[0m\u001b[1;33m\u001b[0m\u001b[1;33m\u001b[0m\u001b[0m\n\u001b[0;32m    846\u001b[0m \u001b[1;33m\u001b[0m\u001b[0m\n\u001b[1;32m--> 847\u001b[1;33m     \u001b[1;32mdef\u001b[0m \u001b[0mprob\u001b[0m\u001b[1;33m(\u001b[0m\u001b[0mself\u001b[0m\u001b[1;33m,\u001b[0m \u001b[0msample\u001b[0m\u001b[1;33m)\u001b[0m\u001b[1;33m:\u001b[0m\u001b[1;33m\u001b[0m\u001b[1;33m\u001b[0m\u001b[0m\n\u001b[0m\u001b[0;32m    848\u001b[0m         \u001b[0mc\u001b[0m \u001b[1;33m=\u001b[0m \u001b[0mself\u001b[0m\u001b[1;33m.\u001b[0m\u001b[0m_freqdist\u001b[0m\u001b[1;33m[\u001b[0m\u001b[0msample\u001b[0m\u001b[1;33m]\u001b[0m\u001b[1;33m\u001b[0m\u001b[1;33m\u001b[0m\u001b[0m\n\u001b[0;32m    849\u001b[0m         \u001b[1;32mreturn\u001b[0m \u001b[1;33m(\u001b[0m\u001b[0mc\u001b[0m \u001b[1;33m+\u001b[0m \u001b[0mself\u001b[0m\u001b[1;33m.\u001b[0m\u001b[0m_gamma\u001b[0m\u001b[1;33m)\u001b[0m \u001b[1;33m/\u001b[0m \u001b[0mself\u001b[0m\u001b[1;33m.\u001b[0m\u001b[0m_divisor\u001b[0m\u001b[1;33m\u001b[0m\u001b[1;33m\u001b[0m\u001b[0m\n",
      "\u001b[1;31mKeyboardInterrupt\u001b[0m: "
     ],
     "output_type": "error"
    }
   ],
   "source": [
    "\n",
    "auth = OAuthHandler(ckey, csecret)\n",
    "auth.set_access_token(atoken, asecret)\n",
    "\n",
    "twitterStream = Stream(auth, listener())\n",
    "twitterStream.filter(track=[\"great\"])"
   ]
  },
  {
   "cell_type": "code",
   "execution_count": null,
   "metadata": {},
   "outputs": [],
   "source": []
  }
 ],
 "metadata": {
  "kernelspec": {
   "display_name": "Python 3",
   "language": "python",
   "name": "python3"
  },
  "language_info": {
   "codemirror_mode": {
    "name": "ipython",
    "version": 3
   },
   "file_extension": ".py",
   "mimetype": "text/x-python",
   "name": "python",
   "nbconvert_exporter": "python",
   "pygments_lexer": "ipython3",
   "version": "3.7.3"
  }
 },
 "nbformat": 4,
 "nbformat_minor": 2
}
